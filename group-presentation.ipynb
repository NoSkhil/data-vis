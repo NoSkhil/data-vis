{
 "cells": [
  {
   "cell_type": "markdown",
   "metadata": {},
   "source": [
    "# Introduction : Group 4\n",
    "## Members:\n",
    "* Shyam Akhil Nekkanti \n",
    "* Jun He (Helena) - 8903073\n",
    "* Zheming Li (Brendan) - 8914152\n"
   ]
  },
  {
   "cell_type": "code",
   "execution_count": null,
   "metadata": {},
   "outputs": [],
   "source": [
    "## CHALLENGE #3\n",
    "\n",
    "import pandas as pd\n",
    "from tabulate import tabulate\n",
    "\n",
    "# Step 1: Read data from CSV\n",
    "df = pd.read_csv('youtube-dataset/USvideos.csv')  \n",
    "\n",
    "# Step 2: Prettify the DataFrame using the tabulate library\n",
    "print(tabulate(df.head(), headers='keys', tablefmt='pretty'))  # only display the first 5 rows for readability"
   ]
  },
  {
   "cell_type": "code",
   "execution_count": null,
   "metadata": {},
   "outputs": [],
   "source": [
    "## CHALLENGE #4 \n",
    "## Encapsulate the code in classes, methods\n",
    "import pandas as pd\n",
    "import matplotlib.pyplot as plt\n",
    "\n",
    "class HRVAnalysis:\n",
    "    def __init__(self, file_path):\n",
    "        self.df = pd.read_csv(file_path)\n",
    "    \n",
    "    # Method to explore the dataset\n",
    "    def explore_data(self):\n",
    "        print(\"Column Names:\", self.df.columns)\n",
    "        print(\"Dataset Summary:\\n\", self.df.describe())"
   ]
  },
  {
   "cell_type": "markdown",
   "metadata": {},
   "source": [
    "## Challenge 5 - Write a 50-word summary of the use case\n",
    "### This project uses the YouTube trending videos dataset to build a machine learning model \n",
    "### that predicts whether a video will trend based on features like views, likes, comments, \n",
    "### and video metadata. The use case is to help content creators optimize their video \n",
    "### attributes to increase their chances of appearing in the trending list.\n"
   ]
  },
  {
   "cell_type": "code",
   "execution_count": null,
   "metadata": {},
   "outputs": [],
   "source": [
    "## Challenge 5_1 - Calculate the mean, median, and mode in a way that makes sense\n",
    "\n"
   ]
  },
  {
   "cell_type": "markdown",
   "metadata": {},
   "source": [
    "## Challenge 5_2 -  Summary\n",
    "We calculate the mean and median of views because views are directly tied to YouTuber income. These metrics help creators better understand and predict their potential earnings.\n",
    "\n",
    "Mode\n",
    "We chose to calculate the mode for category_id because category_id represents video categories (such as technology, news, sports, etc.). The mode of this feature can indicate which category of videos is most likely to trend."
   ]
  },
  {
   "cell_type": "code",
   "execution_count": null,
   "metadata": {},
   "outputs": [],
   "source": [
    "## Challenge 6-1 - Calculate the variance standard deviation and four Quartiles in a way that makes sense\n"
   ]
  },
  {
   "cell_type": "markdown",
   "metadata": {},
   "source": [
    "## Challenge 6-2 - Summary\n",
    "\n",
    "## Variance & Standard Deviation\n",
    "### We calculate variance and standard deviation for views to measure how much the ### view counts deviate from the average. This helps understand the level of \n",
    "### fluctuation in video popularity.\n",
    "\n",
    "## Four Quartiles\n",
    "### We use four quartiles for likes to divide the data into segments, providing  ### insights into how different videos perform in terms of user engagement. \n",
    "### Quartiles help show the range from the least liked to the most liked videos.\n"
   ]
  },
  {
   "cell_type": "code",
   "execution_count": null,
   "metadata": {},
   "outputs": [],
   "source": [
    "## Challenge 7-1 - Display the data with a scatter plot, a histogram, a box-whisker plot, and a Venn Diagram\n"
   ]
  },
  {
   "cell_type": "markdown",
   "metadata": {},
   "source": [
    "## Challenge 7-2 - Present a numerical summary of the data"
   ]
  }
 ],
 "metadata": {
  "language_info": {
   "name": "python"
  }
 },
 "nbformat": 4,
 "nbformat_minor": 2
}
