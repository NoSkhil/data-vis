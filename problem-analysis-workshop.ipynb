{
 "cells": [
  {
   "cell_type": "markdown",
   "id": "f570c5a3c6aa910",
   "metadata": {},
   "source": [
    "# Group 4"
   ]
  },
  {
   "cell_type": "markdown",
   "id": "bac47829e815ed20",
   "metadata": {},
   "source": [
    "## Members"
   ]
  },
  {
   "cell_type": "markdown",
   "id": "96a399119c7aaa76",
   "metadata": {},
   "source": [
    "* Shyam Akhil Nekkanti \n",
    "* Jun He (Helena) - 8903073\n",
    "* Zheming Li (Brendan) - 8914152"
   ]
  },
  {
   "cell_type": "markdown",
   "id": "1ac828bf5cf7989a",
   "metadata": {},
   "source": "## Field of Inquiry"
  },
  {
   "metadata": {},
   "cell_type": "markdown",
   "source": "Digital media and content analysis, focusing on YouTube trending videos.",
   "id": "750aebd454f0abbb"
  },
  {
   "metadata": {},
   "cell_type": "markdown",
   "source": "## Potential Poorly Defined Question",
   "id": "854fd29beb8f7044"
  },
  {
   "metadata": {},
   "cell_type": "markdown",
   "source": [
    "**Do longer videos perform better?**\n",
    "\n",
    "Oversimplifies the relationship between video length and performance. Doesn't consider genre, audience retention, or platform algorithms.\n"
   ],
   "id": "f95b11a45090d82"
  },
  {
   "cell_type": "markdown",
   "id": "89ed938d6e5728b",
   "metadata": {},
   "source": "## Research Question"
  },
  {
   "metadata": {},
   "cell_type": "markdown",
   "source": "What factors most strongly correlate with a video's likelihood of trending on YouTube across different regions?",
   "id": "971e3d3eb9fcaa09"
  },
  {
   "metadata": {},
   "cell_type": "markdown",
   "source": "## Dataset",
   "id": "d6f296f3a24d9c67"
  },
  {
   "metadata": {},
   "cell_type": "markdown",
   "source": [
    "### [Trending YouTube Video Statistics](https://www.kaggle.com/datasets/datasnaek/youtube-new)\n",
    "\n",
    "* CSV\n",
    "* Contains data for multiple regions including US, GB, DE, CA, FR, RU, MX, KR, JP and IN.\n",
    "* Includes Various metrics such as views, likes, dislikes, comment count, and more."
   ],
   "id": "2531d03737518109"
  },
  {
   "metadata": {},
   "cell_type": "markdown",
   "source": [
    "### Questions to Consider for Choosing Data\n",
    "\n",
    "1. Will it be one-time or ongoing?\n",
    "\n",
    "    This is one-time. We are studying data up to a specific time point and using it to predict trends.\n",
    "  \n",
    "2. Will it be broadly implemented or implemented for one customer or interaction at a time?\n",
    "\n",
    "    It will be broadly implemented as the data includes videos from multiple regions and various types.\n",
    " \n",
    "3. Will it be automated?\n",
    "\n",
    "    Data collection is not currently automated. But parts of the analysis could be automated, such as data collection and preprocessing."
   ],
   "id": "e88a9567a63afb24"
  },
  {
   "cell_type": "markdown",
   "id": "dac2e6b89b970d5d",
   "metadata": {},
   "source": "## Setup and Configuration"
  },
  {
   "metadata": {},
   "cell_type": "markdown",
   "source": [
    "### 1. Install Anaconda\n",
    " \n",
    "Anaconda is a tool used for managing different Python environments."
   ],
   "id": "55cc658d01703ec7"
  },
  {
   "cell_type": "markdown",
   "id": "9e26d92a7c9cb447",
   "metadata": {},
   "source": [
    "### 2. Configure the IDE\n",
    "\n",
    "Set Anaconda as the Python interpreter."
   ]
  },
  {
   "cell_type": "markdown",
   "id": "c186dde67fc6be72",
   "metadata": {},
   "source": [
    "### 3. Install Libraries\n",
    "\n",
    "Use pip to install all the required libraries."
   ]
  },
  {
   "cell_type": "code",
   "execution_count": 11,
   "id": "9831a189ff4695d",
   "metadata": {
    "ExecuteTime": {
     "end_time": "2024-09-13T02:23:49.167639Z",
     "start_time": "2024-09-13T02:23:46.877389Z"
    }
   },
   "outputs": [
    {
     "name": "stdout",
     "output_type": "stream",
     "text": [
      "Requirement already satisfied: numpy in /opt/homebrew/anaconda3/lib/python3.12/site-packages (1.26.4)\r\n",
      "Requirement already satisfied: pandas in /opt/homebrew/anaconda3/lib/python3.12/site-packages (2.2.2)\r\n",
      "Requirement already satisfied: matplotlib in /opt/homebrew/anaconda3/lib/python3.12/site-packages (3.8.4)\r\n",
      "Requirement already satisfied: seaborn in /opt/homebrew/anaconda3/lib/python3.12/site-packages (0.13.2)\r\n",
      "Requirement already satisfied: scikit-learn in /opt/homebrew/anaconda3/lib/python3.12/site-packages (1.4.2)\r\n",
      "Requirement already satisfied: tensorflow in /opt/homebrew/anaconda3/lib/python3.12/site-packages (2.17.0)\r\n",
      "Requirement already satisfied: keras in /opt/homebrew/anaconda3/lib/python3.12/site-packages (3.5.0)\r\n",
      "Requirement already satisfied: python-dateutil>=2.8.2 in /opt/homebrew/anaconda3/lib/python3.12/site-packages (from pandas) (2.9.0.post0)\r\n",
      "Requirement already satisfied: pytz>=2020.1 in /opt/homebrew/anaconda3/lib/python3.12/site-packages (from pandas) (2024.1)\r\n",
      "Requirement already satisfied: tzdata>=2022.7 in /opt/homebrew/anaconda3/lib/python3.12/site-packages (from pandas) (2023.3)\r\n",
      "Requirement already satisfied: contourpy>=1.0.1 in /opt/homebrew/anaconda3/lib/python3.12/site-packages (from matplotlib) (1.2.0)\r\n",
      "Requirement already satisfied: cycler>=0.10 in /opt/homebrew/anaconda3/lib/python3.12/site-packages (from matplotlib) (0.11.0)\r\n",
      "Requirement already satisfied: fonttools>=4.22.0 in /opt/homebrew/anaconda3/lib/python3.12/site-packages (from matplotlib) (4.51.0)\r\n",
      "Requirement already satisfied: kiwisolver>=1.3.1 in /opt/homebrew/anaconda3/lib/python3.12/site-packages (from matplotlib) (1.4.4)\r\n",
      "Requirement already satisfied: packaging>=20.0 in /opt/homebrew/anaconda3/lib/python3.12/site-packages (from matplotlib) (23.2)\r\n",
      "Requirement already satisfied: pillow>=8 in /opt/homebrew/anaconda3/lib/python3.12/site-packages (from matplotlib) (10.3.0)\r\n",
      "Requirement already satisfied: pyparsing>=2.3.1 in /opt/homebrew/anaconda3/lib/python3.12/site-packages (from matplotlib) (3.0.9)\r\n",
      "Requirement already satisfied: scipy>=1.6.0 in /opt/homebrew/anaconda3/lib/python3.12/site-packages (from scikit-learn) (1.13.1)\r\n",
      "Requirement already satisfied: joblib>=1.2.0 in /opt/homebrew/anaconda3/lib/python3.12/site-packages (from scikit-learn) (1.4.2)\r\n",
      "Requirement already satisfied: threadpoolctl>=2.0.0 in /opt/homebrew/anaconda3/lib/python3.12/site-packages (from scikit-learn) (2.2.0)\r\n",
      "Requirement already satisfied: absl-py>=1.0.0 in /opt/homebrew/anaconda3/lib/python3.12/site-packages (from tensorflow) (2.1.0)\r\n",
      "Requirement already satisfied: astunparse>=1.6.0 in /opt/homebrew/anaconda3/lib/python3.12/site-packages (from tensorflow) (1.6.3)\r\n",
      "Requirement already satisfied: flatbuffers>=24.3.25 in /opt/homebrew/anaconda3/lib/python3.12/site-packages (from tensorflow) (24.3.25)\r\n",
      "Requirement already satisfied: gast!=0.5.0,!=0.5.1,!=0.5.2,>=0.2.1 in /opt/homebrew/anaconda3/lib/python3.12/site-packages (from tensorflow) (0.6.0)\r\n",
      "Requirement already satisfied: google-pasta>=0.1.1 in /opt/homebrew/anaconda3/lib/python3.12/site-packages (from tensorflow) (0.2.0)\r\n",
      "Requirement already satisfied: h5py>=3.10.0 in /opt/homebrew/anaconda3/lib/python3.12/site-packages (from tensorflow) (3.11.0)\r\n",
      "Requirement already satisfied: libclang>=13.0.0 in /opt/homebrew/anaconda3/lib/python3.12/site-packages (from tensorflow) (18.1.1)\r\n",
      "Requirement already satisfied: ml-dtypes<0.5.0,>=0.3.1 in /opt/homebrew/anaconda3/lib/python3.12/site-packages (from tensorflow) (0.4.0)\r\n",
      "Requirement already satisfied: opt-einsum>=2.3.2 in /opt/homebrew/anaconda3/lib/python3.12/site-packages (from tensorflow) (3.3.0)\r\n",
      "Requirement already satisfied: protobuf!=4.21.0,!=4.21.1,!=4.21.2,!=4.21.3,!=4.21.4,!=4.21.5,<5.0.0dev,>=3.20.3 in /opt/homebrew/anaconda3/lib/python3.12/site-packages (from tensorflow) (3.20.3)\r\n",
      "Requirement already satisfied: requests<3,>=2.21.0 in /opt/homebrew/anaconda3/lib/python3.12/site-packages (from tensorflow) (2.32.2)\r\n",
      "Requirement already satisfied: setuptools in /opt/homebrew/anaconda3/lib/python3.12/site-packages (from tensorflow) (69.5.1)\r\n",
      "Requirement already satisfied: six>=1.12.0 in /opt/homebrew/anaconda3/lib/python3.12/site-packages (from tensorflow) (1.16.0)\r\n",
      "Requirement already satisfied: termcolor>=1.1.0 in /opt/homebrew/anaconda3/lib/python3.12/site-packages (from tensorflow) (2.4.0)\r\n",
      "Requirement already satisfied: typing-extensions>=3.6.6 in /opt/homebrew/anaconda3/lib/python3.12/site-packages (from tensorflow) (4.11.0)\r\n",
      "Requirement already satisfied: wrapt>=1.11.0 in /opt/homebrew/anaconda3/lib/python3.12/site-packages (from tensorflow) (1.14.1)\r\n",
      "Requirement already satisfied: grpcio<2.0,>=1.24.3 in /opt/homebrew/anaconda3/lib/python3.12/site-packages (from tensorflow) (1.66.1)\r\n",
      "Requirement already satisfied: tensorboard<2.18,>=2.17 in /opt/homebrew/anaconda3/lib/python3.12/site-packages (from tensorflow) (2.17.1)\r\n",
      "Requirement already satisfied: rich in /opt/homebrew/anaconda3/lib/python3.12/site-packages (from keras) (13.3.5)\r\n",
      "Requirement already satisfied: namex in /opt/homebrew/anaconda3/lib/python3.12/site-packages (from keras) (0.0.8)\r\n",
      "Requirement already satisfied: optree in /opt/homebrew/anaconda3/lib/python3.12/site-packages (from keras) (0.12.1)\r\n",
      "Requirement already satisfied: wheel<1.0,>=0.23.0 in /opt/homebrew/anaconda3/lib/python3.12/site-packages (from astunparse>=1.6.0->tensorflow) (0.43.0)\r\n",
      "Requirement already satisfied: charset-normalizer<4,>=2 in /opt/homebrew/anaconda3/lib/python3.12/site-packages (from requests<3,>=2.21.0->tensorflow) (2.0.4)\r\n",
      "Requirement already satisfied: idna<4,>=2.5 in /opt/homebrew/anaconda3/lib/python3.12/site-packages (from requests<3,>=2.21.0->tensorflow) (3.7)\r\n",
      "Requirement already satisfied: urllib3<3,>=1.21.1 in /opt/homebrew/anaconda3/lib/python3.12/site-packages (from requests<3,>=2.21.0->tensorflow) (2.2.2)\r\n",
      "Requirement already satisfied: certifi>=2017.4.17 in /opt/homebrew/anaconda3/lib/python3.12/site-packages (from requests<3,>=2.21.0->tensorflow) (2024.7.4)\r\n",
      "Requirement already satisfied: markdown>=2.6.8 in /opt/homebrew/anaconda3/lib/python3.12/site-packages (from tensorboard<2.18,>=2.17->tensorflow) (3.4.1)\r\n",
      "Requirement already satisfied: tensorboard-data-server<0.8.0,>=0.7.0 in /opt/homebrew/anaconda3/lib/python3.12/site-packages (from tensorboard<2.18,>=2.17->tensorflow) (0.7.2)\r\n",
      "Requirement already satisfied: werkzeug>=1.0.1 in /opt/homebrew/anaconda3/lib/python3.12/site-packages (from tensorboard<2.18,>=2.17->tensorflow) (3.0.3)\r\n",
      "Requirement already satisfied: markdown-it-py<3.0.0,>=2.2.0 in /opt/homebrew/anaconda3/lib/python3.12/site-packages (from rich->keras) (2.2.0)\r\n",
      "Requirement already satisfied: pygments<3.0.0,>=2.13.0 in /opt/homebrew/anaconda3/lib/python3.12/site-packages (from rich->keras) (2.15.1)\r\n",
      "Requirement already satisfied: mdurl~=0.1 in /opt/homebrew/anaconda3/lib/python3.12/site-packages (from markdown-it-py<3.0.0,>=2.2.0->rich->keras) (0.1.0)\r\n",
      "Requirement already satisfied: MarkupSafe>=2.1.1 in /opt/homebrew/anaconda3/lib/python3.12/site-packages (from werkzeug>=1.0.1->tensorboard<2.18,>=2.17->tensorflow) (2.1.3)\r\n"
     ]
    }
   ],
   "source": [
    "!pip install numpy pandas matplotlib seaborn scikit-learn tensorflow keras"
   ]
  },
  {
   "cell_type": "markdown",
   "id": "86012232763dc8bc",
   "metadata": {},
   "source": [
    "### 4. Coding\n",
    "\n",
    "Import the required libraries, load the dataset, and perform data cleansing."
   ]
  },
  {
   "cell_type": "code",
   "execution_count": 12,
   "id": "13dde202-9a39-48bf-9846-65bf1f5c4344",
   "metadata": {
    "ExecuteTime": {
     "end_time": "2024-09-13T02:23:49.724487Z",
     "start_time": "2024-09-13T02:23:49.173476Z"
    }
   },
   "outputs": [
    {
     "name": "stdout",
     "output_type": "stream",
     "text": [
      "/Users/brendan/Workspace/Personal/Conestoga/AI/analysis-math/data-vis/youtube-dataset/CAvideos.csv\n",
      "      video_id trending_date  \\\n",
      "0  n1WpP7iowLc      17.14.11   \n",
      "1  0dBIkQ4Mz1M      17.14.11   \n",
      "2  5qpjK5DgCt4      17.14.11   \n",
      "3  d380meD0W0M      17.14.11   \n",
      "4  2Vv-BfVoq4g      17.14.11   \n",
      "5  0yIWz1XEeyc      17.14.11   \n",
      "6  _uM5kFfkhB8      17.14.11   \n",
      "7  2kyS6SvSYSE      17.14.11   \n",
      "8  JzCsM1vtn78      17.14.11   \n",
      "9  43sm-QwLcx4      17.14.11   \n",
      "\n",
      "                                               title     channel_title  \\\n",
      "0         Eminem - Walk On Water (Audio) ft. Beyoncé        EminemVEVO   \n",
      "1                      PLUSH - Bad Unboxing Fan Mail         iDubbbzTV   \n",
      "2  Racist Superman | Rudy Mancuso, King Bach & Le...      Rudy Mancuso   \n",
      "3                           I Dare You: GOING BALD!?          nigahiga   \n",
      "4        Ed Sheeran - Perfect (Official Music Video)        Ed Sheeran   \n",
      "5  Jake Paul Says Alissa Violet CHEATED with LOGA...        DramaAlert   \n",
      "6             Vanoss Superhero School - New Students      VanossGaming   \n",
      "7                 WE WANT TO TALK ABOUT OUR MARRIAGE      CaseyNeistat   \n",
      "8               THE LOGANG MADE HISTORY. LOL. AGAIN.  Logan Paul Vlogs   \n",
      "9  Finally Sheldon is winning an argument about t...       Sheikh Musa   \n",
      "\n",
      "   category_id              publish_time  \\\n",
      "0           10  2017-11-10T17:00:03.000Z   \n",
      "1           23  2017-11-13T17:00:00.000Z   \n",
      "2           23  2017-11-12T19:05:24.000Z   \n",
      "3           24  2017-11-12T18:01:41.000Z   \n",
      "4           10  2017-11-09T11:04:14.000Z   \n",
      "5           25  2017-11-13T07:37:51.000Z   \n",
      "6           23  2017-11-12T23:52:13.000Z   \n",
      "7           22  2017-11-13T17:13:01.000Z   \n",
      "8           24  2017-11-12T20:19:24.000Z   \n",
      "9           22  2017-11-10T14:10:46.000Z   \n",
      "\n",
      "                                                tags     views    likes  \\\n",
      "0  Eminem|\"Walk\"|\"On\"|\"Water\"|\"Aftermath/Shady/In...  17158579   787425   \n",
      "1  plush|\"bad unboxing\"|\"unboxing\"|\"fan mail\"|\"id...   1014651   127794   \n",
      "2  racist superman|\"rudy\"|\"mancuso\"|\"king\"|\"bach\"...   3191434   146035   \n",
      "3  ryan|\"higa\"|\"higatv\"|\"nigahiga\"|\"i dare you\"|\"...   2095828   132239   \n",
      "4  edsheeran|\"ed sheeran\"|\"acoustic\"|\"live\"|\"cove...  33523622  1634130   \n",
      "5  #DramaAlert|\"Drama\"|\"Alert\"|\"DramaAlert\"|\"keem...   1309699   103755   \n",
      "6  Funny Moments|\"Montage video games\"|\"gaming\"|\"...   2987945   187464   \n",
      "7                                    SHANtell martin    748374    57534   \n",
      "8  logan paul vlog|\"logan paul\"|\"logan\"|\"paul\"|\"o...   4477587   292837   \n",
      "9               God|\"Sheldon Cooper\"|\"Young Sheldon\"    505161     4135   \n",
      "\n",
      "   dislikes  comment_count                                  thumbnail_link  \\\n",
      "0     43420         125882  https://i.ytimg.com/vi/n1WpP7iowLc/default.jpg   \n",
      "1      1688          13030  https://i.ytimg.com/vi/0dBIkQ4Mz1M/default.jpg   \n",
      "2      5339           8181  https://i.ytimg.com/vi/5qpjK5DgCt4/default.jpg   \n",
      "3      1989          17518  https://i.ytimg.com/vi/d380meD0W0M/default.jpg   \n",
      "4     21082          85067  https://i.ytimg.com/vi/2Vv-BfVoq4g/default.jpg   \n",
      "5      4613          12143  https://i.ytimg.com/vi/0yIWz1XEeyc/default.jpg   \n",
      "6      9850          26629  https://i.ytimg.com/vi/_uM5kFfkhB8/default.jpg   \n",
      "7      2967          15959  https://i.ytimg.com/vi/2kyS6SvSYSE/default.jpg   \n",
      "8      4123          36391  https://i.ytimg.com/vi/JzCsM1vtn78/default.jpg   \n",
      "9       976           1484  https://i.ytimg.com/vi/43sm-QwLcx4/default.jpg   \n",
      "\n",
      "   comments_disabled  ratings_disabled  video_error_or_removed  \\\n",
      "0              False             False                   False   \n",
      "1              False             False                   False   \n",
      "2              False             False                   False   \n",
      "3              False             False                   False   \n",
      "4              False             False                   False   \n",
      "5              False             False                   False   \n",
      "6              False             False                   False   \n",
      "7              False             False                   False   \n",
      "8              False             False                   False   \n",
      "9              False             False                   False   \n",
      "\n",
      "                                         description  \n",
      "0  Eminem's new track Walk on Water ft. Beyoncé i...  \n",
      "1  STill got a lot of packages. Probably will las...  \n",
      "2  WATCH MY PREVIOUS VIDEO ▶ \\n\\nSUBSCRIBE ► http...  \n",
      "3  I know it's been a while since we did this sho...  \n",
      "4  🎧: https://ad.gt/yt-perfect\\n💰: https://atlant...  \n",
      "5  ► Follow for News! - https://twitter.com/KEEMS...  \n",
      "6  Vanoss Merch Shop: https://vanoss.3blackdot.co...  \n",
      "7  SHANTELL'S CHANNEL - https://www.youtube.com/s...  \n",
      "8  Join the movement. Be a Maverick ► https://Sho...  \n",
      "9  Sheldon is roasting pastor of the church\\nyoun...  \n"
     ]
    }
   ],
   "source": [
    "import os\n",
    "import pandas as pd\n",
    "import numpy as np\n",
    "import sklearn\n",
    "import matplotlib.pyplot as plt\n",
    "\n",
    "# get the file path of the dataset\n",
    "cur_folder = os.getcwd()\n",
    "filepath = f\"{cur_folder}/youtube-dataset/CAvideos.csv\"\n",
    "print(filepath)\n",
    "\n",
    "# load the dataset into a pandas dataframe\n",
    "data = pd.read_csv(filepath)\n",
    "\n",
    "# print the first 10 rows of the dataset\n",
    "print(data.head(10))"
   ]
  },
  {
   "cell_type": "markdown",
   "id": "b8a805846ea9c54d",
   "metadata": {},
   "source": "## Data Cleansing"
  },
  {
   "metadata": {},
   "cell_type": "markdown",
   "source": [
    "**1. Import Data**\n",
    "\n",
    "Load the CSV files for each region.\n",
    "\n",
    "\n",
    "**2. Merge Data Sets**\n",
    "\n",
    "Combine data from different regions by adding a `region` column.\n",
    "\n",
    "\n",
    "**3. Standardize Data**\n",
    "\n",
    "* Convert publish time to a standard datetime format.\n",
    "  \n",
    "* Ensure consistent formatting of view counts, likes, and dislikes across regions.\n",
    "  \n",
    "* Handle missing values and outliers.\n",
    "  \n",
    "* Extract additional features from the description and tags for analysis.\n"
   ],
   "id": "a19265af88ae850b"
  },
  {
   "metadata": {},
   "cell_type": "code",
   "outputs": [],
   "execution_count": null,
   "source": "",
   "id": "6e061fa0248f3b68"
  }
 ],
 "metadata": {
  "kernelspec": {
   "display_name": "Python 3 (ipykernel)",
   "language": "python",
   "name": "python3"
  },
  "language_info": {
   "codemirror_mode": {
    "name": "ipython",
    "version": 3
   },
   "file_extension": ".py",
   "mimetype": "text/x-python",
   "name": "python",
   "nbconvert_exporter": "python",
   "pygments_lexer": "ipython3",
   "version": "3.12.4"
  }
 },
 "nbformat": 4,
 "nbformat_minor": 5
}
