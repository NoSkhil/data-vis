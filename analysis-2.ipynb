{
 "cells": [
  {
   "cell_type": "markdown",
   "metadata": {},
   "source": [
    "Group 4 Members"
   ]
  },
  {
   "cell_type": "markdown",
   "metadata": {},
   "source": [
    "* Shyam Akhil Nekkanti - 8982123\n",
    "* Jun He (Helena) - 8903073\n",
    "* Zheming Li (Brendan) - 8914152"
   ]
  },
  {
   "cell_type": "markdown",
   "metadata": {},
   "source": [
    "### Dataset Description"
   ]
  },
  {
   "cell_type": "markdown",
   "metadata": {},
   "source": []
  },
  {
   "cell_type": "code",
   "execution_count": null,
   "metadata": {},
   "outputs": [],
   "source": [
    "import pandas as pd\n",
    "import numpy as np\n",
    "import matplotlib.pyplot as plt\n",
    "import seaborn as sns\n",
    "from scipy import stats\n",
    "import json\n",
    "from scipy.stats import shapiro\n",
    "\n",
    "pd.set_option('display.max_columns', None)\n",
    "plt.style.use('seaborn')\n",
    "\n",
    "def load_category_mapping(json_file):\n",
    "    with open(json_file, 'r') as f:\n",
    "        category_data = json.load(f)\n",
    "    return {int(item['id']): item['snippet']['title'] for item in category_data['items']}\n",
    "\n",
    "def load_and_preprocess_data(csv_file, category_mapping):\n",
    "    # Load CSV data\n",
    "    df = pd.read_csv(csv_file)\n",
    "    \n",
    "    # Convert dates\n",
    "    df['trending_date'] = pd.to_datetime(df['trending_date'], format='%y.%d.%m')\n",
    "    df['publish_time'] = pd.to_datetime(df['publish_time'])\n",
    "    \n",
    "    # Add category names\n",
    "    df['category_name'] = df['category_id'].map(category_mapping)\n",
    "    \n",
    "    # Append numerical features\n",
    "    df['likes_ratio'] = df['likes'] / (df['views'] + 1)\n",
    "    df['dislikes_ratio'] = df['dislikes'] / (df['views'] + 1)\n",
    "    df['comment_ratio'] = df['comment_count'] / (df['views'] + 1)\n",
    "    \n",
    "    return df"
   ]
  },
  {
   "cell_type": "markdown",
   "metadata": {},
   "source": [
    "category_mapping = load_category_mapping('category_id.json')\n",
    "df = load_and_preprocess_data('US_youtube_trending_data.csv', category_mapping)\n",
    "\n",
    "## Exploratory Data Analysis and Distribution Analysis\n",
    "\n",
    "def plot_distribution_analysis(data, column, title):\n",
    "    \"\"\"Create distribution analysis plots for a given column\"\"\"\n",
    "    plt.figure(figsize=(15, 5))\n",
    "    \n",
    "    # Histogram\n",
    "    plt.subplot(131)\n",
    "    sns.histplot(data[column], kde=True)\n",
    "    plt.title(f'Histogram of {title}')\n",
    "    \n",
    "    # Box Plot\n",
    "    plt.subplot(132)\n",
    "    sns.boxplot(y=data[column])\n",
    "    plt.title(f'Box Plot of {title}')\n",
    "    \n",
    "    # Q-Q Plot\n",
    "    plt.subplot(133)\n",
    "    stats.probplot(data[column], dist=\"norm\", plot=plt)\n",
    "    plt.title(f'Q-Q Plot of {title}')\n",
    "    \n",
    "    plt.tight_layout()\n",
    "    plt.show()\n",
    "\n",
    "# Analyze distributions for key metrics\n",
    "metrics = ['views', 'likes', 'dislikes', 'comment_count']\n",
    "\n",
    "for metric in metrics:\n",
    "    plot_distribution_analysis(df, metric, metric.replace('_', ' ').title())\n",
    "    \n",
    "    # Calculate and display basic statistics\n",
    "    print(f\"\\nStatistics for {metric}:\")\n",
    "    print(df[metric].describe())\n",
    "    \n",
    "    # Z-score analysis\n",
    "    z_scores = stats.zscore(df[metric])\n",
    "    outliers = len(z_scores[abs(z_scores) > 3])\n",
    "    print(f\"Number of outliers (|Z-score| > 3): {outliers}\")\n",
    "    \n",
    "    # T-score analysis\n",
    "    t_scores = (df[metric] - df[metric].mean()) / (df[metric].std() / np.sqrt(len(df[metric])))\n",
    "    print(f\"T-score mean: {t_scores.mean():.2f}\")\n",
    "    print(f\"T-score std: {t_scores.std():.2f}\")\n",
    "    \n",
    "    # Shapiro-Wilk test\n",
    "    statistic, p_value = shapiro(df[metric])\n",
    "    print(f\"Shapiro-Wilk test p-value: {p_value}\")\n",
    "    print(\"\\n\" + \"=\"*50 + \"\\n\")\n",
    "\n",
    "## Analysis Summaries"
   ]
  }
 ],
 "metadata": {
  "kernelspec": {
   "display_name": "base",
   "language": "python",
   "name": "python3"
  },
  "language_info": {
   "name": "python",
   "version": "3.12.5"
  }
 },
 "nbformat": 4,
 "nbformat_minor": 2
}
