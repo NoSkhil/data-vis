{
 "cells": [
  {
   "cell_type": "markdown",
   "metadata": {},
   "source": [
    "# Introduction : Group 4\n",
    "## Members:\n",
    "* Shyam Akhil Nekkanti \n",
    "* Jun He (Helena) - 8903073\n",
    "* Zheming Li (Brendan) - 8914152\n"
   ]
  },
  {
   "cell_type": "code",
   "execution_count": 1,
   "metadata": {},
   "outputs": [
    {
     "name": "stdout",
     "output_type": "stream",
     "text": [
      "+---+-------------+---------------+----------------------------------------------------------------+-----------------------+-------------+--------------------------+-----------------------------------------------------------------------------------------------------------------------------------------------------------------------------------------------------------------------------------------------------------------------------------------------------------------------------------------------------------------------------------------------------------------------------------------------------------------------------------------------+---------+--------+----------+---------------+------------------------------------------------+-------------------+------------------+------------------------+--------------------------------------------------------------------------------------------------------------------------------------------------------------------------------------------------------------------------------------------------------------------------------------------------------------------------------------------------------------------------------------------------------------------------------------------------------------------------------------------------------------------------------------------------------------------------------------------------------------------------------------------------------------------------------------------------------------------------------------------------------------------------------------------------------------------------------------------------------------------------------------------------------------------------------------------------------------------------------------------------------------------------------------------------------------------------------------------------------------------------------------------------------------------------------------------------------------------------------------------------------------------------------------------------------------------------------------------------------------------------------------------------------------------------------------------------------------------+\n",
      "|   |  video_id   | trending_date |                             title                              |     channel_title     | category_id |       publish_time       |                                                                                                                                                                                                                                             tags                                                                                                                                                                                                                                              |  views  | likes  | dislikes | comment_count |                 thumbnail_link                 | comments_disabled | ratings_disabled | video_error_or_removed |                                                                                                                                                                                                                                                                                                                                                                                                                                                                                                                                                                                                                                                                                                                            description                                                                                                                                                                                                                                                                                                                                                                                                                                                                                                                                                                                                                                                                                                                             |\n",
      "+---+-------------+---------------+----------------------------------------------------------------+-----------------------+-------------+--------------------------+-----------------------------------------------------------------------------------------------------------------------------------------------------------------------------------------------------------------------------------------------------------------------------------------------------------------------------------------------------------------------------------------------------------------------------------------------------------------------------------------------+---------+--------+----------+---------------+------------------------------------------------+-------------------+------------------+------------------------+--------------------------------------------------------------------------------------------------------------------------------------------------------------------------------------------------------------------------------------------------------------------------------------------------------------------------------------------------------------------------------------------------------------------------------------------------------------------------------------------------------------------------------------------------------------------------------------------------------------------------------------------------------------------------------------------------------------------------------------------------------------------------------------------------------------------------------------------------------------------------------------------------------------------------------------------------------------------------------------------------------------------------------------------------------------------------------------------------------------------------------------------------------------------------------------------------------------------------------------------------------------------------------------------------------------------------------------------------------------------------------------------------------------------------------------------------------------------+\n",
      "| 0 | 2kyS6SvSYSE |   17.14.11    |               WE WANT TO TALK ABOUT OUR MARRIAGE               |     CaseyNeistat      |     22      | 2017-11-13T17:13:01.000Z |                                                                                                                                                                                                                                        SHANtell martin                                                                                                                                                                                                                                        | 748374  | 57527  |   2966   |     15954     | https://i.ytimg.com/vi/2kyS6SvSYSE/default.jpg |       False       |      False       |         False          | SHANTELL'S CHANNEL - https://www.youtube.com/shantellmartin\\nCANDICE - https://www.lovebilly.com\\n\\nfilmed this video in 4k on this -- http://amzn.to/2sTDnRZ\\nwith this lens -- http://amzn.to/2rUJOmD\\nbig drone - http://tinyurl.com/h4ft3oy\\nOTHER GEAR ---  http://amzn.to/2o3GLX5\\nSony CAMERA http://amzn.to/2nOBmnv\\nOLD CAMERA; http://amzn.to/2o2cQBT\\nMAIN LENS; http://amzn.to/2od5gBJ\\nBIG SONY CAMERA; http://amzn.to/2nrdJRO\\nBIG Canon CAMERA; http://tinyurl.com/jn4q4vz\\nBENDY TRIPOD THING; http://tinyurl.com/gw3ylz2\\nYOU NEED THIS FOR THE BENDY TRIPOD; http://tinyurl.com/j8mzzua\\nWIDE LENS; http://tinyurl.com/jkfcm8t\\nMORE EXPENSIVE WIDE LENS; http://tinyurl.com/zrdgtou\\nSMALL CAMERA; http://tinyurl.com/hrrzhor\\nMICROPHONE; http://tinyurl.com/zefm4jy\\nOTHER MICROPHONE; http://tinyurl.com/jxgpj86\\nOLD DRONE (cheaper but still great);http://tinyurl.com/zcfmnmd\\n\\nfollow me; on http://instagram.com/caseyneistat\\non https://www.facebook.com/cneistat\\non https://twitter.com/CaseyNeistat\\n\\namazing intro song by https://soundcloud.com/discoteeth\\n\\nad disclosure.  THIS IS NOT AN AD.  not selling or promoting anything.  but samsung did produce the Shantell Video as a 'GALAXY PROJECT' which is an initiative that enables creators like Shantell and me to make projects we might otherwise not have the opportunity to make.  hope that's clear.  if not ask in the comments and i'll answer any specifics. |\n",
      "| 1 | 1ZAPwfrtAFY |   17.14.11    | The Trump Presidency: Last Week Tonight with John Oliver (HBO) |    LastWeekTonight    |     24      | 2017-11-13T07:30:00.000Z |                                                                                                                                                                                            last week tonight trump presidency|\"last week tonight donald trump\"|\"john oliver trump\"|\"donald trump\"                                                                                                                                                                                             | 2418783 | 97185  |   6146   |     12703     | https://i.ytimg.com/vi/1ZAPwfrtAFY/default.jpg |       False       |      False       |         False          |                                                                                                                                                                                                                                                                                                                                                                                                       One year after the presidential election, John Oliver discusses what we've learned so far and enlists our catheter cowboy to teach Donald Trump what he hasn't.\\n\\nConnect with Last Week Tonight online...\\n\\nSubscribe to the Last Week Tonight YouTube channel for more almost news as it almost happens: www.youtube.com/user/LastWeekTonight\\n\\nFind Last Week Tonight on Facebook like your mom would: http://Facebook.com/LastWeekTonight\\n\\nFollow us on Twitter for news about jokes and jokes about news: http://Twitter.com/LastWeekTonight\\n\\nVisit our official site for all that other stuff at once: http://www.hbo.com/lastweektonight                                                                                                                                                                                                                                                                                                                                                                                                       |\n",
      "| 2 | 5qpjK5DgCt4 |   17.14.11    |     Racist Superman | Rudy Mancuso, King Bach & Lele Pons      |     Rudy Mancuso      |     23      | 2017-11-12T19:05:24.000Z |                                                                                  racist superman|\"rudy\"|\"mancuso\"|\"king\"|\"bach\"|\"racist\"|\"superman\"|\"love\"|\"rudy mancuso poo bear black white official music video\"|\"iphone x by pineapple\"|\"lelepons\"|\"hannahstocking\"|\"rudymancuso\"|\"inanna\"|\"anwar\"|\"sarkis\"|\"shots\"|\"shotsstudios\"|\"alesso\"|\"anitta\"|\"brazil\"|\"Getting My Driver's License | Lele Pons\"                                                                                   | 3191434 | 146033 |   5339   |     8181      | https://i.ytimg.com/vi/5qpjK5DgCt4/default.jpg |       False       |      False       |         False          |                                                                                                                     WATCH MY PREVIOUS VIDEO ▶ \\n\\nSUBSCRIBE ► https://www.youtube.com/channel/UC5jkXpfnBhlDjqh0ir5FsIQ?sub_confirmation=1\\n\\nTHANKS FOR WATCHING! LIKE & SUBSCRIBE FOR MORE VIDEOS!\\n-----------------------------------------------------------\\nFIND ME ON: \\nInstagram | http://instagram.com/rudymancuso\\nTwitter | http://twitter.com/rudymancuso\\nFacebook | http://facebook.com/rudymancuso\\n\\nCAST: \\nRudy Mancuso | http://youtube.com/c/rudymancuso\\nLele Pons | http://youtube.com/c/lelepons\\nKing Bach | https://youtube.com/user/BachelorsPadTv\\n\\nVideo Effects: \\nCaleb Natale | https://instagram.com/calebnatale\\n\\nPA:\\nPaulina Gregory\\n\\n\\nShots Studios Channels:\\nAlesso | https://youtube.com/c/alesso\\nAnitta | http://youtube.com/c/anitta\\nAnwar Jibawi | http://youtube.com/c/anwar\\nAwkward Puppets | http://youtube.com/c/awkwardpuppets\\nHannah Stocking | http://youtube.com/c/hannahstocking\\nInanna Sarkis | http://youtube.com/c/inanna\\nLele Pons | http://youtube.com/c/lelepons\\nMaejor | http://youtube.com/c/maejor\\nMike Tyson | http://youtube.com/c/miketyson \\nRudy Mancuso | http://youtube.com/c/rudymancuso\\nShots Studios | http://youtube.com/c/shots\\n\\n#Rudy\\n#RudyMancuso                                                                                                                      |\n",
      "| 3 | puqaWrEC7tY |   17.14.11    |                Nickelback Lyrics: Real or Fake?                | Good Mythical Morning |     24      | 2017-11-13T11:00:04.000Z | rhett and link|\"gmm\"|\"good mythical morning\"|\"rhett and link good mythical morning\"|\"good mythical morning rhett and link\"|\"mythical morning\"|\"Season 12\"|\"nickelback lyrics\"|\"nickelback lyrics real or fake\"|\"nickelback\"|\"nickelback songs\"|\"nickelback song\"|\"rhett link nickelback\"|\"gmm nickelback\"|\"lyrics (website category)\"|\"nickelback (musical group)\"|\"rock\"|\"music\"|\"lyrics\"|\"chad kroeger\"|\"canada\"|\"music (industry)\"|\"mythical\"|\"gmm challenge\"|\"comedy\"|\"funny\"|\"challenge\" | 343168  | 10172  |   666    |     2146      | https://i.ytimg.com/vi/puqaWrEC7tY/default.jpg |       False       |      False       |         False          |    Today we find out if Link is a Nickelback amateur or a secret Nickelback devotee. GMM #1218\\nDon't miss an all new Ear Biscuits: https://goo.gl/xeZNQt\\nWatch Part 4: https://youtu.be/MhCdiiB8CQg | Watch Part 2: https://youtu.be/7qiOrNao9fg\\nWatch today's episode from the start: http://bit.ly/GMM1218\\n\\nPick up all of the official GMM merch only at https://mythical.store\\n\\nFollow Rhett & Link: \\nInstagram: https://instagram.com/rhettandlink\\nFacebook: https://facebook.com/rhettandlink\\nTwitter: https://twitter.com/rhettandlink\\nTumblr: https://rhettandlink.tumblr.com\\nSnapchat: @realrhettlink\\nWebsite: https://mythical.co/\\n\\nCheck Out Our Other Mythical Channels:\\nGood Mythical MORE: https://youtube.com/goodmythicalmore\\nRhett & Link: https://youtube.com/rhettandlink\\nThis Is Mythical: https://youtube.com/thisismythical\\nEar Biscuits: https://applepodcasts.com/earbiscuits\\n\\nWant to send us something? https://mythical.co/contact\\nHave you made a Wheel of Mythicality intro video? Submit it here: https://bit.ly/GMMWheelIntro\\n\\nIntro Animation by Digital Twigs: https://www.digitaltwigs.com\\nIntro & Outro Music by Jeff Zeigler & Sarah Schimeneck https://www.jeffzeigler.com\\nWheel of Mythicality theme: https://www.royaltyfreemusiclibrary.com/\\nAll Supplemental Music fromOpus 1 Music: https://opus1.sourceaudio.com/\\nWe use ‘The Mouse’ by Blue Microphones https://www.bluemic.com/mouse/     |\n",
      "| 4 | d380meD0W0M |   17.14.11    |                    I Dare You: GOING BALD!?                    |       nigahiga        |     24      | 2017-11-12T18:01:41.000Z |                                                                                                                                                                                   ryan|\"higa\"|\"higatv\"|\"nigahiga\"|\"i dare you\"|\"idy\"|\"rhpc\"|\"dares\"|\"no truth\"|\"comments\"|\"comedy\"|\"funny\"|\"stupid\"|\"fail\"                                                                                                                                                                                    | 2095731 | 132235 |   1989   |     17518     | https://i.ytimg.com/vi/d380meD0W0M/default.jpg |       False       |      False       |         False          |                                                                                                                                                                                                                                                                                                                                                                                                    I know it's been a while since we did this show, but we're back with what might be the best episode yet!\\nLeave your dares in the comment section! \\n\\nOrder my book how to write good \\nhttp://higatv.com/ryan-higas-how-to-write-good-pre-order-links/\\n\\nJust Launched New Official Store\\nhttps://www.gianthugs.com/collections/ryan\\n\\nHigaTV Channel\\nhttp://www.youtube.com/higatv\\n\\nTwitter\\nhttp://www.twitter.com/therealryanhiga\\n\\nFacebook\\nhttp://www.facebook.com/higatv\\n\\nWebsite\\nhttp://www.higatv.com\\n\\nInstagram\\nhttp://www.instagram.com/notryanhiga\\n\\nSend us mail or whatever you want here!\\nPO Box 232355\\nLas Vegas, NV 89105                                                                                                                                                                                                                                                                                                                                                                                                    |\n",
      "+---+-------------+---------------+----------------------------------------------------------------+-----------------------+-------------+--------------------------+-----------------------------------------------------------------------------------------------------------------------------------------------------------------------------------------------------------------------------------------------------------------------------------------------------------------------------------------------------------------------------------------------------------------------------------------------------------------------------------------------+---------+--------+----------+---------------+------------------------------------------------+-------------------+------------------+------------------------+--------------------------------------------------------------------------------------------------------------------------------------------------------------------------------------------------------------------------------------------------------------------------------------------------------------------------------------------------------------------------------------------------------------------------------------------------------------------------------------------------------------------------------------------------------------------------------------------------------------------------------------------------------------------------------------------------------------------------------------------------------------------------------------------------------------------------------------------------------------------------------------------------------------------------------------------------------------------------------------------------------------------------------------------------------------------------------------------------------------------------------------------------------------------------------------------------------------------------------------------------------------------------------------------------------------------------------------------------------------------------------------------------------------------------------------------------------------------+\n"
     ]
    }
   ],
   "source": [
    "## CHALLENGE #3\n",
    "\n",
    "import pandas as pd\n",
    "from tabulate import tabulate\n",
    "\n",
    "# Step 1: Read data from CSV\n",
    "df = pd.read_csv('youtube-dataset/USvideos.csv')  \n",
    "\n",
    "# Step 2: Prettify the DataFrame using the tabulate library\n",
    "print(tabulate(df.head(), headers='keys', tablefmt='pretty'))  # only display the first 5 rows for readability"
   ]
  },
  {
   "cell_type": "code",
   "execution_count": 2,
   "metadata": {},
   "outputs": [],
   "source": [
    "## CHALLENGE #4 \n",
    "## Encapsulate the code in classes, methods\n",
    "import pandas as pd\n",
    "import matplotlib.pyplot as plt\n",
    "\n",
    "class VideoAnalysis:\n",
    "    def __init__(self, file_path):\n",
    "        self.df = pd.read_csv(file_path)\n",
    "    \n",
    "    # Method to explore the dataset\n",
    "    def explore_data(self):\n",
    "        print(\"Column Names:\", self.df.columns)\n",
    "        print(\"Dataset Summary:\\n\", self.df.describe())\n",
    "\n"
   ]
  },
  {
   "cell_type": "code",
   "execution_count": 3,
   "metadata": {},
   "outputs": [
    {
     "name": "stdout",
     "output_type": "stream",
     "text": [
      "Column Names: Index(['video_id', 'trending_date', 'title', 'channel_title', 'category_id',\n",
      "       'publish_time', 'tags', 'views', 'likes', 'dislikes', 'comment_count',\n",
      "       'thumbnail_link', 'comments_disabled', 'ratings_disabled',\n",
      "       'video_error_or_removed', 'description'],\n",
      "      dtype='object')\n",
      "Dataset Summary:\n",
      "         category_id         views         likes      dislikes  comment_count\n",
      "count  40949.000000  4.094900e+04  4.094900e+04  4.094900e+04   4.094900e+04\n",
      "mean      19.972429  2.360785e+06  7.426670e+04  3.711401e+03   8.446804e+03\n",
      "std        7.568327  7.394114e+06  2.288853e+05  2.902971e+04   3.743049e+04\n",
      "min        1.000000  5.490000e+02  0.000000e+00  0.000000e+00   0.000000e+00\n",
      "25%       17.000000  2.423290e+05  5.424000e+03  2.020000e+02   6.140000e+02\n",
      "50%       24.000000  6.818610e+05  1.809100e+04  6.310000e+02   1.856000e+03\n",
      "75%       25.000000  1.823157e+06  5.541700e+04  1.938000e+03   5.755000e+03\n",
      "max       43.000000  2.252119e+08  5.613827e+06  1.674420e+06   1.361580e+06\n"
     ]
    }
   ],
   "source": [
    "# Usage example:\n",
    "# Step 1: Create an instance of the class\n",
    "file_path = 'youtube-dataset/USvideos.csv'  \n",
    "video_analysis = VideoAnalysis(file_path)\n",
    "\n",
    "# Step 2: Call the method to explore the dataset\n",
    "video_analysis.explore_data()"
   ]
  },
  {
   "cell_type": "markdown",
   "metadata": {},
   "source": [
    "## Challenge 5 - Write a 50-word summary of the use case\n",
    "### This project uses the YouTube trending videos dataset to build a machine learning model \n",
    "### that predicts whether a video will trend based on features like views, likes, comments, \n",
    "### and video metadata. The use case is to help content creators optimize their video \n",
    "### attributes to increase their chances of appearing in the trending list.\n"
   ]
  },
  {
   "cell_type": "code",
   "execution_count": 4,
   "metadata": {},
   "outputs": [
    {
     "name": "stdout",
     "output_type": "stream",
     "text": [
      "Mean Views: 2360784.6382573447\n",
      "Median Views: 681861.0\n",
      "Most Frequent Category ID (Mode): 24\n"
     ]
    }
   ],
   "source": [
    "## Challenge 5_1 - Calculate the mean, median, and mode in a way that makes sense\n",
    "# Method to calculate the mean and median of views\n",
    "import pandas as pd\n",
    "from scipy import stats\n",
    "\n",
    "## calculate the mean and median of views\n",
    "mean_views = df['views'].mean()\n",
    "median_views = df['views'].median()\n",
    "print(f\"Mean Views: {mean_views}\")\n",
    "print(f\"Median Views: {median_views}\")\n",
    "\n",
    "## calculate the mode of category_id\n",
    "mode_category = df['category_id'].mode()[0] \n",
    "print(f\"Most Frequent Category ID (Mode): {mode_category}\")\n",
    "\n"
   ]
  },
  {
   "cell_type": "markdown",
   "metadata": {},
   "source": [
    "## Challenge 5_2 -  Summary\n",
    "We calculate the mean and median of views because views are directly tied to YouTuber income. These metrics help creators better understand and predict their potential earnings.\n",
    "\n",
    "Mode\n",
    "We chose to calculate the mode for category_id because category_id represents video categories (such as technology, news, sports, etc.). The mode of this feature can indicate which category of videos is most likely to trend."
   ]
  },
  {
   "cell_type": "code",
   "execution_count": 5,
   "metadata": {},
   "outputs": [
    {
     "name": "stdout",
     "output_type": "stream",
     "text": [
      "Variance of Views: 54672918291443.13\n",
      "Standard Deviation of Views: 7394113.75970394\n",
      "Quartiles for Views:\n",
      "Q1 (25%): 242329.0\n",
      "Q2 (50% - Median): 681861.0\n",
      "Q3 (75%): 1823157.0\n",
      "Q4 (100% - Max): 225211923.0\n"
     ]
    }
   ],
   "source": [
    "## Challenge 6-1 - Calculate the variance standard deviation and four Quartiles in a way that makes sense\n",
    "## calculate the four quartiles of views\n",
    "variance_views = df['views'].var()\n",
    "std_dev_views = df['views'].std()\n",
    "print(f\"Variance of Views: {variance_views}\")\n",
    "print(f\"Standard Deviation of Views: {std_dev_views}\")\n",
    "\n",
    "\n",
    "## calculate the four quartiles of views         TODO\n",
    "quartiles = df['views'].quantile([0.25, 0.5, 0.75, 1.0])\n",
    "print(\"Quartiles for Views:\")\n",
    "print(f\"Q1 (25%): {quartiles[0.25]}\")\n",
    "print(f\"Q2 (50% - Median): {quartiles[0.5]}\")\n",
    "print(f\"Q3 (75%): {quartiles[0.75]}\")\n",
    "print(f\"Q4 (100% - Max): {quartiles[1.0]}\")"
   ]
  },
  {
   "cell_type": "markdown",
   "metadata": {},
   "source": [
    "## Challenge 6-2 - Summary\n",
    "\n",
    "### *Variance & Standard Deviation*\n",
    "### We calculate variance and standard deviation for views to measure how much the \n",
    "### view counts deviate from the average. This helps understand the level of \n",
    "### fluctuation in video popularity.\n",
    "\n",
    "### *Four Quartiles*\n",
    "### We use four quartiles for likes to divide the data into segments, providing  \n",
    "### insights into how different videos perform in terms of user engagement. \n",
    "### Quartiles help show the range from the least liked to the most liked videos.\n"
   ]
  },
  {
   "cell_type": "code",
   "execution_count": 6,
   "metadata": {},
   "outputs": [
    {
     "ename": "ModuleNotFoundError",
     "evalue": "No module named 'matplotlib_venn'",
     "output_type": "error",
     "traceback": [
      "\u001b[1;31m---------------------------------------------------------------------------\u001b[0m",
      "\u001b[1;31mModuleNotFoundError\u001b[0m                       Traceback (most recent call last)",
      "Cell \u001b[1;32mIn[6], line 5\u001b[0m\n\u001b[0;32m      3\u001b[0m \u001b[38;5;28;01mimport\u001b[39;00m \u001b[38;5;21;01mmatplotlib\u001b[39;00m\u001b[38;5;21;01m.\u001b[39;00m\u001b[38;5;21;01mpyplot\u001b[39;00m \u001b[38;5;28;01mas\u001b[39;00m \u001b[38;5;21;01mplt\u001b[39;00m\n\u001b[0;32m      4\u001b[0m \u001b[38;5;28;01mimport\u001b[39;00m \u001b[38;5;21;01mseaborn\u001b[39;00m \u001b[38;5;28;01mas\u001b[39;00m \u001b[38;5;21;01msns\u001b[39;00m\n\u001b[1;32m----> 5\u001b[0m \u001b[38;5;28;01mfrom\u001b[39;00m \u001b[38;5;21;01mmatplotlib_venn\u001b[39;00m \u001b[38;5;28;01mimport\u001b[39;00m venn2, venn3  \u001b[38;5;66;03m# For Venn diagrams\u001b[39;00m\n\u001b[0;32m      8\u001b[0m \u001b[38;5;66;03m## display a scatter plot\u001b[39;00m\n\u001b[0;32m      9\u001b[0m plt\u001b[38;5;241m.\u001b[39mfigure(figsize\u001b[38;5;241m=\u001b[39m(\u001b[38;5;241m8\u001b[39m,\u001b[38;5;241m6\u001b[39m))\n",
      "\u001b[1;31mModuleNotFoundError\u001b[0m: No module named 'matplotlib_venn'"
     ]
    }
   ],
   "source": [
    "## Challenge 7-1 - Display the data with a scatter plot, a histogram, a box-whisker plot, and a Venn Diagram\n",
    "import pandas as pd\n",
    "import matplotlib.pyplot as plt\n",
    "import seaborn as sns\n",
    "from matplotlib_venn import venn2, venn3  # For Venn diagrams\n",
    "\n",
    "\n",
    "## display a scatter plot\n",
    "plt.figure(figsize=(8,6))\n",
    "plt.scatter(self.df['views'], self.df['likes'], alpha=0.5)\n",
    "plt.title('Scatter Plot: Views vs Likes')\n",
    "plt.xlabel('Views')\n",
    "plt.ylabel('Likes')\n",
    "plt.show()\n",
    "\n",
    "## display a histogram\n",
    "plt.figure(figsize=(8,6))\n",
    "sns.histplot(self.df['views'], kde=False, bins=30)\n",
    "plt.title('Histogram of Views')\n",
    "plt.xlabel('Views')\n",
    "plt.ylabel('Frequency')\n",
    "plt.show()\n",
    "\n",
    "## display a box-whisker plot\n",
    "plt.figure(figsize=(8,6))\n",
    "sns.boxplot(y=self.df['views'])\n",
    "plt.title('Box-Whisker Plot of Views')\n",
    "plt.ylabel('Views')\n",
    "plt.show()\n",
    "\n",
    "## display a Venn Diagram (example with 2 or 3 sets)\n",
    "# Venn diagram for two groups: Views > 1M and Likes > 100K\n",
    "views_set = set(self.df[self.df['views'] > 1_000_000].index)\n",
    "likes_set = set(self.df[self.df['likes'] > 100_000].index)\n",
    "plt.figure(figsize=(8,6))\n",
    "venn2([views_set, likes_set], set_labels=('Views > 1M', 'Likes > 100K'))\n",
    "plt.title('Venn Diagram: Views vs Likes')\n",
    "plt.show()\n",
    "\n"
   ]
  },
  {
   "cell_type": "markdown",
   "metadata": {},
   "source": [
    "## Challenge 7-2 - Present a numerical summary of the data"
   ]
  }
 ],
 "metadata": {
  "kernelspec": {
   "display_name": "Python 3",
   "language": "python",
   "name": "python3"
  },
  "language_info": {
   "codemirror_mode": {
    "name": "ipython",
    "version": 3
   },
   "file_extension": ".py",
   "mimetype": "text/x-python",
   "name": "python",
   "nbconvert_exporter": "python",
   "pygments_lexer": "ipython3",
   "version": "3.12.5"
  }
 },
 "nbformat": 4,
 "nbformat_minor": 2
}
