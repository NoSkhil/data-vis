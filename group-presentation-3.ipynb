{
 "cells": [
  {
   "cell_type": "markdown",
   "metadata": {},
   "source": [
    "## Group 4 - Members"
   ]
  },
  {
   "cell_type": "markdown",
   "metadata": {},
   "source": [
    "* Shyam Akhil Nekkanti - 8982123\n",
    "* Jun He (Helena) - 8903073\n",
    "* Zheming Li (Brendan) - 8914152"
   ]
  },
  {
   "cell_type": "markdown",
   "metadata": {},
   "source": [
    "### 1. Dataset Description"
   ]
  },
  {
   "cell_type": "markdown",
   "metadata": {},
   "source": [
    "### Dataset from [Trending YouTube Video Statistics](https://www.kaggle.com/datasets/datasnaek/youtube-new)\n",
    "\n",
    "* Format: CSV\n",
    "* Contains data for multiple regions including US, GB, DE, CA, FR, RU, MX, KR, JP and IN.\n",
    "* The dataset contains information about YouTube videos that have appeared in the trending tab in the US(mainly research). \n",
    "* It includes various attributes:\n",
    "\n",
    "- video title \n",
    "- channel title \n",
    "- publication date \n",
    "- trending date \n",
    "- views \n",
    "- likes \n",
    "- dislikes \n",
    "- comments\n",
    "- tags\n",
    "\n",
    "Note: These fields allow for a comprehensive analysis of video performance, trends, and user engagement across different channels and categories. Key columns include publish_time for time-based analysis and category_id for content categorization."
   ]
  },
  {
   "cell_type": "markdown",
   "metadata": {},
   "source": [
    "### 2. Objective"
   ]
  },
  {
   "cell_type": "markdown",
   "metadata": {},
   "source": [
    "The project focuses on **analyzing YouTube video trends over time** , aiming to uncover patterns in engagement metrics like views, likes, and comment counts. The hypothesis tests whether video characteristics like title keywords or publish time significantly impact a video's trend status. Using the YouTube dataset, we'll test whether specific features can **predict video success**, examining the time-based trends and user interaction metrics across various categories."
   ]
  },
  {
   "cell_type": "markdown",
   "metadata": {},
   "source": [
    "### 3. EDA - Describe the data, explore it, and provide insights about it."
   ]
  },
  {
   "cell_type": "code",
   "execution_count": 118,
   "metadata": {
    "ExecuteTime": {
     "end_time": "2024-10-11T01:22:46.407651Z",
     "start_time": "2024-10-11T01:22:46.405846Z"
    }
   },
   "outputs": [],
   "source": [
    "# IMPORT REQUIRED LIBRARIES\n",
    "import json\n",
    "\n",
    "import matplotlib.pyplot as plt\n",
    "import numpy as np\n",
    "import pandas as pd\n",
    "import seaborn as sns\n",
    "from scipy import stats"
   ]
  },
  {
   "cell_type": "code",
   "execution_count": 119,
   "metadata": {
    "ExecuteTime": {
     "end_time": "2024-10-11T01:22:46.439560Z",
     "start_time": "2024-10-11T01:22:46.437524Z"
    }
   },
   "outputs": [],
   "source": [
    "# LOAD THE CATEGORIES JSON FILE AND CREATE A HASHMAP OF CATEGORY IDS\n",
    "\n",
    "def load_category_mapping(json_file):\n",
    "  with open(json_file, 'r') as f:\n",
    "    category_data = json.load(f)\n",
    "  formatted_categories = {int(item['id']): item['snippet']['title'] for item in category_data['items']}\n",
    "  return formatted_categories"
   ]
  },
  {
   "cell_type": "code",
   "execution_count": 120,
   "metadata": {
    "ExecuteTime": {
     "end_time": "2024-10-11T01:22:46.461255Z",
     "start_time": "2024-10-11T01:22:46.458792Z"
    }
   },
   "outputs": [],
   "source": [
    "# READ THE YOUTUBE TRENDING VIDEO DATASET\n",
    "def load_and_preprocess_data(csv_file, category_mapping):\n",
    "  df = pd.read_csv(csv_file)\n",
    "\n",
    "  # Convert dates\n",
    "  df['trending_date'] = pd.to_datetime(df['trending_date'], format='%y.%d.%m')\n",
    "  df['publish_time'] = pd.to_datetime(df['publish_time'])\n",
    "\n",
    "  # Add category names as a column using the hashmap we created.\n",
    "  df['category_name'] = df['category_id'].map(category_mapping)\n",
    "\n",
    "  # Create log-transformed columns for all the features we are considering\n",
    "  numerical_cols = ['views', 'likes', 'dislikes', 'comment_count']\n",
    "  for col in numerical_cols:\n",
    "    df[f'log_{col}'] = np.log1p(df[col])\n",
    "\n",
    "  # Add derived metrics\n",
    "  df['likes_ratio'] = df['likes'] / (df['views'] + 1)\n",
    "  df['dislikes_ratio'] = df['dislikes'] / (df['views'] + 1)\n",
    "  df['comment_ratio'] = df['comment_count'] / (df['views'] + 1)\n",
    "  return df"
   ]
  },
  {
   "cell_type": "code",
   "execution_count": 121,
   "metadata": {
    "ExecuteTime": {
     "end_time": "2024-10-11T01:22:46.482145Z",
     "start_time": "2024-10-11T01:22:46.480374Z"
    }
   },
   "outputs": [],
   "source": [
    "# Calculate trending duration for each video\n",
    "def calc_trending_duration(df):\n",
    "  trending_counts = df.groupby('video_id').size().reset_index(name='trending_duration')\n",
    "  df = df.merge(trending_counts, on='video_id', how='left')\n",
    "  return df"
   ]
  },
  {
   "cell_type": "code",
   "execution_count": 122,
   "metadata": {},
   "outputs": [],
   "source": [
    "def plot_moving_average(df, window_size=12):\n",
    "        \"\"\"Plots the moving average of the time series data to smooth fluctuations.\"\"\"\n",
    "        if df.time_series_data is None:\n",
    "            print(\"Please generate the time series data first.\")\n",
    "            return\n",
    "        \n",
    "        # Calculate the moving average\n",
    "        moving_avg = df.time_series_data.rolling(window=window_size).mean()\n",
    "        \n",
    "        # Plot the original time series and the moving average\n",
    "        plt.figure(figsize=(10,6))\n",
    "        plt.plot(df.time_series_data, label='Original Time Series', color='blue')\n",
    "        plt.plot(moving_avg, label=f'{window_size}-day Moving Average', color='red')\n",
    "        plt.title(f'Moving Average of YouTube Video Views ({window_size} Days)')\n",
    "        plt.xlabel('Date')\n",
    "        plt.ylabel('Views')\n",
    "        plt.legend()\n",
    "        plt.grid(True)\n",
    "        plt.show()"
   ]
  },
  {
   "cell_type": "code",
   "execution_count": 123,
   "metadata": {},
   "outputs": [],
   "source": [
    "def deseasonalize(df, time_series):\n",
    "        # Deseasonalize by subtracting the moving average\n",
    "        seasonal_component = time_series.rolling(window=12).mean()\n",
    "        deseasonalized_series = time_series - seasonal_component\n",
    "        return deseasonalized_series"
   ]
  },
  {
   "cell_type": "code",
   "execution_count": 124,
   "metadata": {
    "ExecuteTime": {
     "end_time": "2024-10-11T01:22:46.970217Z",
     "start_time": "2024-10-11T01:22:46.502338Z"
    }
   },
   "outputs": [
    {
     "name": "stdout",
     "output_type": "stream",
     "text": [
      "Loaded 40949 records\n",
      "\n",
      "Dataset Overview:\n"
     ]
    },
    {
     "data": {
      "text/html": [
       "<div>\n",
       "<style scoped>\n",
       "    .dataframe tbody tr th:only-of-type {\n",
       "        vertical-align: middle;\n",
       "    }\n",
       "\n",
       "    .dataframe tbody tr th {\n",
       "        vertical-align: top;\n",
       "    }\n",
       "\n",
       "    .dataframe thead th {\n",
       "        text-align: right;\n",
       "    }\n",
       "</style>\n",
       "<table border=\"1\" class=\"dataframe\">\n",
       "  <thead>\n",
       "    <tr style=\"text-align: right;\">\n",
       "      <th></th>\n",
       "      <th>video_id</th>\n",
       "      <th>trending_date</th>\n",
       "      <th>title</th>\n",
       "      <th>channel_title</th>\n",
       "      <th>category_id</th>\n",
       "      <th>publish_time</th>\n",
       "      <th>tags</th>\n",
       "      <th>views</th>\n",
       "      <th>likes</th>\n",
       "      <th>dislikes</th>\n",
       "      <th>...</th>\n",
       "      <th>video_error_or_removed</th>\n",
       "      <th>description</th>\n",
       "      <th>category_name</th>\n",
       "      <th>log_views</th>\n",
       "      <th>log_likes</th>\n",
       "      <th>log_dislikes</th>\n",
       "      <th>log_comment_count</th>\n",
       "      <th>likes_ratio</th>\n",
       "      <th>dislikes_ratio</th>\n",
       "      <th>comment_ratio</th>\n",
       "    </tr>\n",
       "  </thead>\n",
       "  <tbody>\n",
       "    <tr>\n",
       "      <th>0</th>\n",
       "      <td>2kyS6SvSYSE</td>\n",
       "      <td>2017-11-14</td>\n",
       "      <td>WE WANT TO TALK ABOUT OUR MARRIAGE</td>\n",
       "      <td>CaseyNeistat</td>\n",
       "      <td>22</td>\n",
       "      <td>2017-11-13 17:13:01+00:00</td>\n",
       "      <td>SHANtell martin</td>\n",
       "      <td>748374</td>\n",
       "      <td>57527</td>\n",
       "      <td>2966</td>\n",
       "      <td>...</td>\n",
       "      <td>False</td>\n",
       "      <td>SHANTELL'S CHANNEL - https://www.youtube.com/s...</td>\n",
       "      <td>People &amp; Blogs</td>\n",
       "      <td>13.525659</td>\n",
       "      <td>10.960027</td>\n",
       "      <td>7.995307</td>\n",
       "      <td>9.677528</td>\n",
       "      <td>0.076869</td>\n",
       "      <td>0.003963</td>\n",
       "      <td>0.021318</td>\n",
       "    </tr>\n",
       "    <tr>\n",
       "      <th>1</th>\n",
       "      <td>1ZAPwfrtAFY</td>\n",
       "      <td>2017-11-14</td>\n",
       "      <td>The Trump Presidency: Last Week Tonight with J...</td>\n",
       "      <td>LastWeekTonight</td>\n",
       "      <td>24</td>\n",
       "      <td>2017-11-13 07:30:00+00:00</td>\n",
       "      <td>last week tonight trump presidency|\"last week ...</td>\n",
       "      <td>2418783</td>\n",
       "      <td>97185</td>\n",
       "      <td>6146</td>\n",
       "      <td>...</td>\n",
       "      <td>False</td>\n",
       "      <td>One year after the presidential election, John...</td>\n",
       "      <td>Entertainment</td>\n",
       "      <td>14.698775</td>\n",
       "      <td>11.484382</td>\n",
       "      <td>8.723719</td>\n",
       "      <td>9.449672</td>\n",
       "      <td>0.040179</td>\n",
       "      <td>0.002541</td>\n",
       "      <td>0.005252</td>\n",
       "    </tr>\n",
       "    <tr>\n",
       "      <th>2</th>\n",
       "      <td>5qpjK5DgCt4</td>\n",
       "      <td>2017-11-14</td>\n",
       "      <td>Racist Superman | Rudy Mancuso, King Bach &amp; Le...</td>\n",
       "      <td>Rudy Mancuso</td>\n",
       "      <td>23</td>\n",
       "      <td>2017-11-12 19:05:24+00:00</td>\n",
       "      <td>racist superman|\"rudy\"|\"mancuso\"|\"king\"|\"bach\"...</td>\n",
       "      <td>3191434</td>\n",
       "      <td>146033</td>\n",
       "      <td>5339</td>\n",
       "      <td>...</td>\n",
       "      <td>False</td>\n",
       "      <td>WATCH MY PREVIOUS VIDEO ▶ \\n\\nSUBSCRIBE ► http...</td>\n",
       "      <td>Comedy</td>\n",
       "      <td>14.975981</td>\n",
       "      <td>11.891595</td>\n",
       "      <td>8.582981</td>\n",
       "      <td>9.009692</td>\n",
       "      <td>0.045758</td>\n",
       "      <td>0.001673</td>\n",
       "      <td>0.002563</td>\n",
       "    </tr>\n",
       "    <tr>\n",
       "      <th>3</th>\n",
       "      <td>puqaWrEC7tY</td>\n",
       "      <td>2017-11-14</td>\n",
       "      <td>Nickelback Lyrics: Real or Fake?</td>\n",
       "      <td>Good Mythical Morning</td>\n",
       "      <td>24</td>\n",
       "      <td>2017-11-13 11:00:04+00:00</td>\n",
       "      <td>rhett and link|\"gmm\"|\"good mythical morning\"|\"...</td>\n",
       "      <td>343168</td>\n",
       "      <td>10172</td>\n",
       "      <td>666</td>\n",
       "      <td>...</td>\n",
       "      <td>False</td>\n",
       "      <td>Today we find out if Link is a Nickelback amat...</td>\n",
       "      <td>Entertainment</td>\n",
       "      <td>12.745978</td>\n",
       "      <td>9.227492</td>\n",
       "      <td>6.502790</td>\n",
       "      <td>7.671827</td>\n",
       "      <td>0.029641</td>\n",
       "      <td>0.001941</td>\n",
       "      <td>0.006253</td>\n",
       "    </tr>\n",
       "    <tr>\n",
       "      <th>4</th>\n",
       "      <td>d380meD0W0M</td>\n",
       "      <td>2017-11-14</td>\n",
       "      <td>I Dare You: GOING BALD!?</td>\n",
       "      <td>nigahiga</td>\n",
       "      <td>24</td>\n",
       "      <td>2017-11-12 18:01:41+00:00</td>\n",
       "      <td>ryan|\"higa\"|\"higatv\"|\"nigahiga\"|\"i dare you\"|\"...</td>\n",
       "      <td>2095731</td>\n",
       "      <td>132235</td>\n",
       "      <td>1989</td>\n",
       "      <td>...</td>\n",
       "      <td>False</td>\n",
       "      <td>I know it's been a while since we did this sho...</td>\n",
       "      <td>Entertainment</td>\n",
       "      <td>14.555413</td>\n",
       "      <td>11.792343</td>\n",
       "      <td>7.595890</td>\n",
       "      <td>9.771041</td>\n",
       "      <td>0.063097</td>\n",
       "      <td>0.000949</td>\n",
       "      <td>0.008359</td>\n",
       "    </tr>\n",
       "    <tr>\n",
       "      <th>5</th>\n",
       "      <td>gHZ1Qz0KiKM</td>\n",
       "      <td>2017-11-14</td>\n",
       "      <td>2 Weeks with iPhone X</td>\n",
       "      <td>iJustine</td>\n",
       "      <td>28</td>\n",
       "      <td>2017-11-13 19:07:23+00:00</td>\n",
       "      <td>ijustine|\"week with iPhone X\"|\"iphone x\"|\"appl...</td>\n",
       "      <td>119180</td>\n",
       "      <td>9763</td>\n",
       "      <td>511</td>\n",
       "      <td>...</td>\n",
       "      <td>False</td>\n",
       "      <td>Using the iPhone for the past two weeks -- her...</td>\n",
       "      <td>Science &amp; Technology</td>\n",
       "      <td>11.688399</td>\n",
       "      <td>9.186457</td>\n",
       "      <td>6.238325</td>\n",
       "      <td>7.268920</td>\n",
       "      <td>0.081917</td>\n",
       "      <td>0.004288</td>\n",
       "      <td>0.012032</td>\n",
       "    </tr>\n",
       "    <tr>\n",
       "      <th>6</th>\n",
       "      <td>39idVpFF7NQ</td>\n",
       "      <td>2017-11-14</td>\n",
       "      <td>Roy Moore &amp; Jeff Sessions Cold Open - SNL</td>\n",
       "      <td>Saturday Night Live</td>\n",
       "      <td>24</td>\n",
       "      <td>2017-11-12 05:37:17+00:00</td>\n",
       "      <td>SNL|\"Saturday Night Live\"|\"SNL Season 43\"|\"Epi...</td>\n",
       "      <td>2103417</td>\n",
       "      <td>15993</td>\n",
       "      <td>2445</td>\n",
       "      <td>...</td>\n",
       "      <td>False</td>\n",
       "      <td>Embattled Alabama Senate candidate Roy Moore (...</td>\n",
       "      <td>Entertainment</td>\n",
       "      <td>14.559074</td>\n",
       "      <td>9.679969</td>\n",
       "      <td>7.802209</td>\n",
       "      <td>7.586296</td>\n",
       "      <td>0.007603</td>\n",
       "      <td>0.001162</td>\n",
       "      <td>0.000937</td>\n",
       "    </tr>\n",
       "    <tr>\n",
       "      <th>7</th>\n",
       "      <td>nc99ccSXST0</td>\n",
       "      <td>2017-11-14</td>\n",
       "      <td>5 Ice Cream Gadgets put to the Test</td>\n",
       "      <td>CrazyRussianHacker</td>\n",
       "      <td>28</td>\n",
       "      <td>2017-11-12 21:50:37+00:00</td>\n",
       "      <td>5 Ice Cream Gadgets|\"Ice Cream\"|\"Cream Sandwic...</td>\n",
       "      <td>817732</td>\n",
       "      <td>23663</td>\n",
       "      <td>778</td>\n",
       "      <td>...</td>\n",
       "      <td>False</td>\n",
       "      <td>Ice Cream Pint Combination Lock - http://amzn....</td>\n",
       "      <td>Science &amp; Technology</td>\n",
       "      <td>13.614291</td>\n",
       "      <td>10.071710</td>\n",
       "      <td>6.658011</td>\n",
       "      <td>8.141190</td>\n",
       "      <td>0.028937</td>\n",
       "      <td>0.000951</td>\n",
       "      <td>0.004197</td>\n",
       "    </tr>\n",
       "    <tr>\n",
       "      <th>8</th>\n",
       "      <td>jr9QtXwC9vc</td>\n",
       "      <td>2017-11-14</td>\n",
       "      <td>The Greatest Showman | Official Trailer 2 [HD]...</td>\n",
       "      <td>20th Century Fox</td>\n",
       "      <td>1</td>\n",
       "      <td>2017-11-13 14:00:23+00:00</td>\n",
       "      <td>Trailer|\"Hugh Jackman\"|\"Michelle Williams\"|\"Za...</td>\n",
       "      <td>826059</td>\n",
       "      <td>3543</td>\n",
       "      <td>119</td>\n",
       "      <td>...</td>\n",
       "      <td>False</td>\n",
       "      <td>Inspired by the imagination of P.T. Barnum, Th...</td>\n",
       "      <td>Film &amp; Animation</td>\n",
       "      <td>13.624423</td>\n",
       "      <td>8.173011</td>\n",
       "      <td>4.787492</td>\n",
       "      <td>5.831882</td>\n",
       "      <td>0.004289</td>\n",
       "      <td>0.000144</td>\n",
       "      <td>0.000412</td>\n",
       "    </tr>\n",
       "    <tr>\n",
       "      <th>9</th>\n",
       "      <td>TUmyygCMMGA</td>\n",
       "      <td>2017-11-14</td>\n",
       "      <td>Why the rise of the robots won’t mean the end ...</td>\n",
       "      <td>Vox</td>\n",
       "      <td>25</td>\n",
       "      <td>2017-11-13 13:45:16+00:00</td>\n",
       "      <td>vox.com|\"vox\"|\"explain\"|\"shift change\"|\"future...</td>\n",
       "      <td>256426</td>\n",
       "      <td>12654</td>\n",
       "      <td>1363</td>\n",
       "      <td>...</td>\n",
       "      <td>False</td>\n",
       "      <td>For now, at least, we have better things to wo...</td>\n",
       "      <td>News &amp; Politics</td>\n",
       "      <td>12.454599</td>\n",
       "      <td>9.445808</td>\n",
       "      <td>7.218177</td>\n",
       "      <td>7.770223</td>\n",
       "      <td>0.049347</td>\n",
       "      <td>0.005315</td>\n",
       "      <td>0.009235</td>\n",
       "    </tr>\n",
       "  </tbody>\n",
       "</table>\n",
       "<p>10 rows × 24 columns</p>\n",
       "</div>"
      ],
      "text/plain": [
       "      video_id trending_date  \\\n",
       "0  2kyS6SvSYSE    2017-11-14   \n",
       "1  1ZAPwfrtAFY    2017-11-14   \n",
       "2  5qpjK5DgCt4    2017-11-14   \n",
       "3  puqaWrEC7tY    2017-11-14   \n",
       "4  d380meD0W0M    2017-11-14   \n",
       "5  gHZ1Qz0KiKM    2017-11-14   \n",
       "6  39idVpFF7NQ    2017-11-14   \n",
       "7  nc99ccSXST0    2017-11-14   \n",
       "8  jr9QtXwC9vc    2017-11-14   \n",
       "9  TUmyygCMMGA    2017-11-14   \n",
       "\n",
       "                                               title          channel_title  \\\n",
       "0                 WE WANT TO TALK ABOUT OUR MARRIAGE           CaseyNeistat   \n",
       "1  The Trump Presidency: Last Week Tonight with J...        LastWeekTonight   \n",
       "2  Racist Superman | Rudy Mancuso, King Bach & Le...           Rudy Mancuso   \n",
       "3                   Nickelback Lyrics: Real or Fake?  Good Mythical Morning   \n",
       "4                           I Dare You: GOING BALD!?               nigahiga   \n",
       "5                              2 Weeks with iPhone X               iJustine   \n",
       "6          Roy Moore & Jeff Sessions Cold Open - SNL    Saturday Night Live   \n",
       "7                5 Ice Cream Gadgets put to the Test     CrazyRussianHacker   \n",
       "8  The Greatest Showman | Official Trailer 2 [HD]...       20th Century Fox   \n",
       "9  Why the rise of the robots won’t mean the end ...                    Vox   \n",
       "\n",
       "   category_id              publish_time  \\\n",
       "0           22 2017-11-13 17:13:01+00:00   \n",
       "1           24 2017-11-13 07:30:00+00:00   \n",
       "2           23 2017-11-12 19:05:24+00:00   \n",
       "3           24 2017-11-13 11:00:04+00:00   \n",
       "4           24 2017-11-12 18:01:41+00:00   \n",
       "5           28 2017-11-13 19:07:23+00:00   \n",
       "6           24 2017-11-12 05:37:17+00:00   \n",
       "7           28 2017-11-12 21:50:37+00:00   \n",
       "8            1 2017-11-13 14:00:23+00:00   \n",
       "9           25 2017-11-13 13:45:16+00:00   \n",
       "\n",
       "                                                tags    views   likes  \\\n",
       "0                                    SHANtell martin   748374   57527   \n",
       "1  last week tonight trump presidency|\"last week ...  2418783   97185   \n",
       "2  racist superman|\"rudy\"|\"mancuso\"|\"king\"|\"bach\"...  3191434  146033   \n",
       "3  rhett and link|\"gmm\"|\"good mythical morning\"|\"...   343168   10172   \n",
       "4  ryan|\"higa\"|\"higatv\"|\"nigahiga\"|\"i dare you\"|\"...  2095731  132235   \n",
       "5  ijustine|\"week with iPhone X\"|\"iphone x\"|\"appl...   119180    9763   \n",
       "6  SNL|\"Saturday Night Live\"|\"SNL Season 43\"|\"Epi...  2103417   15993   \n",
       "7  5 Ice Cream Gadgets|\"Ice Cream\"|\"Cream Sandwic...   817732   23663   \n",
       "8  Trailer|\"Hugh Jackman\"|\"Michelle Williams\"|\"Za...   826059    3543   \n",
       "9  vox.com|\"vox\"|\"explain\"|\"shift change\"|\"future...   256426   12654   \n",
       "\n",
       "   dislikes  ...  video_error_or_removed  \\\n",
       "0      2966  ...                   False   \n",
       "1      6146  ...                   False   \n",
       "2      5339  ...                   False   \n",
       "3       666  ...                   False   \n",
       "4      1989  ...                   False   \n",
       "5       511  ...                   False   \n",
       "6      2445  ...                   False   \n",
       "7       778  ...                   False   \n",
       "8       119  ...                   False   \n",
       "9      1363  ...                   False   \n",
       "\n",
       "                                         description         category_name  \\\n",
       "0  SHANTELL'S CHANNEL - https://www.youtube.com/s...        People & Blogs   \n",
       "1  One year after the presidential election, John...         Entertainment   \n",
       "2  WATCH MY PREVIOUS VIDEO ▶ \\n\\nSUBSCRIBE ► http...                Comedy   \n",
       "3  Today we find out if Link is a Nickelback amat...         Entertainment   \n",
       "4  I know it's been a while since we did this sho...         Entertainment   \n",
       "5  Using the iPhone for the past two weeks -- her...  Science & Technology   \n",
       "6  Embattled Alabama Senate candidate Roy Moore (...         Entertainment   \n",
       "7  Ice Cream Pint Combination Lock - http://amzn....  Science & Technology   \n",
       "8  Inspired by the imagination of P.T. Barnum, Th...      Film & Animation   \n",
       "9  For now, at least, we have better things to wo...       News & Politics   \n",
       "\n",
       "   log_views  log_likes log_dislikes log_comment_count  likes_ratio  \\\n",
       "0  13.525659  10.960027     7.995307          9.677528     0.076869   \n",
       "1  14.698775  11.484382     8.723719          9.449672     0.040179   \n",
       "2  14.975981  11.891595     8.582981          9.009692     0.045758   \n",
       "3  12.745978   9.227492     6.502790          7.671827     0.029641   \n",
       "4  14.555413  11.792343     7.595890          9.771041     0.063097   \n",
       "5  11.688399   9.186457     6.238325          7.268920     0.081917   \n",
       "6  14.559074   9.679969     7.802209          7.586296     0.007603   \n",
       "7  13.614291  10.071710     6.658011          8.141190     0.028937   \n",
       "8  13.624423   8.173011     4.787492          5.831882     0.004289   \n",
       "9  12.454599   9.445808     7.218177          7.770223     0.049347   \n",
       "\n",
       "   dislikes_ratio  comment_ratio  \n",
       "0        0.003963       0.021318  \n",
       "1        0.002541       0.005252  \n",
       "2        0.001673       0.002563  \n",
       "3        0.001941       0.006253  \n",
       "4        0.000949       0.008359  \n",
       "5        0.004288       0.012032  \n",
       "6        0.001162       0.000937  \n",
       "7        0.000951       0.004197  \n",
       "8        0.000144       0.000412  \n",
       "9        0.005315       0.009235  \n",
       "\n",
       "[10 rows x 24 columns]"
      ]
     },
     "execution_count": 124,
     "metadata": {},
     "output_type": "execute_result"
    }
   ],
   "source": [
    "# Load the csv dataset into a dataframe\n",
    "category_mapping = load_category_mapping('youtube-dataset/US_category_id.json')\n",
    "df = load_and_preprocess_data('youtube-dataset/USvideos.csv', category_mapping)\n",
    "\n",
    "\n",
    "\n",
    "print(f\"Loaded {len(df)} records\")\n",
    "print(\"\\nDataset Overview:\")\n",
    "\n",
    "df.head(10)"
   ]
  },
  {
   "cell_type": "code",
   "execution_count": 125,
   "metadata": {
    "ExecuteTime": {
     "end_time": "2024-10-11T01:22:47.012485Z",
     "start_time": "2024-10-11T01:22:46.999667Z"
    }
   },
   "outputs": [
    {
     "name": "stdout",
     "output_type": "stream",
     "text": [
      "<class 'pandas.core.frame.DataFrame'>\n",
      "RangeIndex: 40949 entries, 0 to 40948\n",
      "Data columns (total 24 columns):\n",
      " #   Column                  Non-Null Count  Dtype              \n",
      "---  ------                  --------------  -----              \n",
      " 0   video_id                40949 non-null  object             \n",
      " 1   trending_date           40949 non-null  datetime64[ns]     \n",
      " 2   title                   40949 non-null  object             \n",
      " 3   channel_title           40949 non-null  object             \n",
      " 4   category_id             40949 non-null  int64              \n",
      " 5   publish_time            40949 non-null  datetime64[ns, UTC]\n",
      " 6   tags                    40949 non-null  object             \n",
      " 7   views                   40949 non-null  int64              \n",
      " 8   likes                   40949 non-null  int64              \n",
      " 9   dislikes                40949 non-null  int64              \n",
      " 10  comment_count           40949 non-null  int64              \n",
      " 11  thumbnail_link          40949 non-null  object             \n",
      " 12  comments_disabled       40949 non-null  bool               \n",
      " 13  ratings_disabled        40949 non-null  bool               \n",
      " 14  video_error_or_removed  40949 non-null  bool               \n",
      " 15  description             40379 non-null  object             \n",
      " 16  category_name           40949 non-null  object             \n",
      " 17  log_views               40949 non-null  float64            \n",
      " 18  log_likes               40949 non-null  float64            \n",
      " 19  log_dislikes            40949 non-null  float64            \n",
      " 20  log_comment_count       40949 non-null  float64            \n",
      " 21  likes_ratio             40949 non-null  float64            \n",
      " 22  dislikes_ratio          40949 non-null  float64            \n",
      " 23  comment_ratio           40949 non-null  float64            \n",
      "dtypes: bool(3), datetime64[ns, UTC](1), datetime64[ns](1), float64(7), int64(5), object(7)\n",
      "memory usage: 6.7+ MB\n"
     ]
    }
   ],
   "source": [
    "df.info()"
   ]
  },
  {
   "cell_type": "markdown",
   "metadata": {},
   "source": [
    "We added a new feature, `total_trending_days`, which shows how many days each video appeared on the trending list."
   ]
  },
  {
   "cell_type": "code",
   "execution_count": 126,
   "metadata": {
    "ExecuteTime": {
     "end_time": "2024-10-11T01:22:47.074508Z",
     "start_time": "2024-10-11T01:22:47.060800Z"
    }
   },
   "outputs": [
    {
     "data": {
      "text/plain": [
       "count    40949.000000\n",
       "mean         9.790300\n",
       "std          5.763963\n",
       "min          1.000000\n",
       "25%          6.000000\n",
       "50%          8.000000\n",
       "75%         13.000000\n",
       "max         30.000000\n",
       "Name: trending_duration, dtype: float64"
      ]
     },
     "execution_count": 126,
     "metadata": {},
     "output_type": "execute_result"
    }
   ],
   "source": [
    "df = calc_trending_duration(df)\n",
    "df['trending_duration'].describe()"
   ]
  },
  {
   "cell_type": "code",
   "execution_count": 127,
   "metadata": {},
   "outputs": [
    {
     "name": "stderr",
     "output_type": "stream",
     "text": [
      "C:\\Windows\\Temp\\ipykernel_29220\\4255722825.py:10: FutureWarning: 'Y' is deprecated and will be removed in a future version, please use 'YE' instead.\n",
      "  daily_views = df['views'].resample('Y').sum()\n"
     ]
    },
    {
     "data": {
      "image/png": "[encoded data removed]",
      "text/plain": [
       "<Figure size 1000x600 with 1 Axes>"
      ]
     },
     "metadata": {},
     "output_type": "display_data"
    }
   ],
   "source": [
    "# find two samples\n",
    "# step 1 convert 'publish_time' to datetime format\n",
    "df['publish_time'] = pd.to_datetime(df['publish_time'], format='%Y-%m-%dT%H:%M:%S.%fZ')\n",
    "# # df['publish_time'] = pd.to_datetime(df['publish_time'], format='%Y-%m')\n",
    "# # Step 2: Set 'publish_time' as index\n",
    "df.set_index('publish_time', inplace=True)\n",
    "\n",
    "# Step 3: Resample the data to daily counts or another time frequency\n",
    "# Example: Resample by day, summing the views per day\n",
    "daily_views = df['views'].resample('Y').sum()\n",
    "\n",
    "# Step 4: Plot the data\n",
    "plt.figure(figsize=(10, 6))\n",
    "plt.plot(daily_views, label='Daily Views')\n",
    "plt.xlabel('Date')\n",
    "plt.ylabel('Views')\n",
    "plt.title('Time Series of Daily Views')\n",
    "plt.legend()\n",
    "plt.show()"
   ]
  },
  {
   "cell_type": "markdown",
   "metadata": {},
   "source": [
    "## 4. Hypothesis Testing"
   ]
  },
  {
   "cell_type": "markdown",
   "metadata": {},
   "source": [
    "### Choosing the Test"
   ]
  },
  {
   "cell_type": "markdown",
   "metadata": {},
   "source": [
    "Since we are comparing the total trending days across multiple categories, we will use the `ANOVA test`."
   ]
  },
  {
   "cell_type": "markdown",
   "metadata": {},
   "source": [
    "### Hypotheses"
   ]
  },
  {
   "cell_type": "markdown",
   "metadata": {},
   "source": [
    "We proposed the following hypotheses:\n",
    "\n",
    "* **Null Hypothesis (H<sub>0</sub>):** The time of video publication has no significant impact on the number of views a video receives.\n",
    "\n",
    "* **Alternative Hypothesis (H<sub>a</sub>):** The time of video publication significantly impacts the number of views a video receives."
   ]
  },
  {
   "cell_type": "markdown",
   "metadata": {},
   "source": [
    "#### Why ANOVA?\n",
    "\n",
    "ANOVA is suitable because it compares the means of total_trending_days across **multiple** video categories to determine significant differences."
   ]
  },
  {
   "cell_type": "markdown",
   "metadata": {},
   "source": [
    "#### Why not other tests?\n",
    "\n",
    "* Because we are comparing the means of more than two groups, we cannot use `T-test` or `Wilcoxon signed-rank test`.\n",
    "* Chi-square test is used for comparing categorical variables, which is not suitable for this case.\n",
    "* F-test is used for comparing the variances of two groups, which is also not suitable for this case."
   ]
  },
  {
   "cell_type": "markdown",
   "metadata": {},
   "source": [
    "### Perform ANOVA test"
   ]
  },
  {
   "cell_type": "code",
   "execution_count": 128,
   "metadata": {
    "ExecuteTime": {
     "end_time": "2024-10-11T01:22:47.426166Z",
     "start_time": "2024-10-11T01:22:47.408710Z"
    }
   },
   "outputs": [
    {
     "name": "stdout",
     "output_type": "stream",
     "text": [
      "P-value: 0.000\n"
     ]
    }
   ],
   "source": [
    "# extract trending_duration data for each category, grouped by category\n",
    "category_groups = []\n",
    "\n",
    "for category in df['category_id'].unique():\n",
    "  # Get all trending_duration data for the current category\n",
    "  filter = df['category_id'] == category\n",
    "  category_data = df[filter]['trending_duration']\n",
    "\n",
    "  # Add the data to the list of category groups\n",
    "  category_groups.append(category_data.values)\n",
    "\n",
    "# Perform the ANOVA test to determine if the means of the groups are significantly different\n",
    "statistic, p_value = stats.f_oneway(*category_groups)\n",
    "\n",
    "print(f'P-value: {p_value:.3f}')"
   ]
  },
  {
   "cell_type": "markdown",
   "metadata": {},
   "source": [
    "\n",
    "The p-value is less than 0.05, which indicates that we reject the null hypothesis. Therefore, we can conclude that there is a significant difference in the mean of total trending days across different video categories."
   ]
  },
  {
   "cell_type": "code",
   "execution_count": 130,
   "metadata": {},
   "outputs": [],
   "source": [
    "def generate_time_series(df, column='views', freq='M'):\n",
    "        # Resample the data to the desired frequency (monthly or yearly)\n",
    "        time_series = df[column].resample(freq).sum()\n",
    "        return time_series"
   ]
  },
  {
   "cell_type": "markdown",
   "metadata": {},
   "source": [
    "## 5. Time Series Display"
   ]
  },
  {
   "cell_type": "code",
   "execution_count": 131,
   "metadata": {},
   "outputs": [
    {
     "ename": "KeyError",
     "evalue": "'M'",
     "output_type": "error",
     "traceback": [
      "\u001b[1;31m---------------------------------------------------------------------------\u001b[0m",
      "\u001b[1;31mKeyError\u001b[0m                                  Traceback (most recent call last)",
      "File \u001b[1;32me:\\AI-program\\CSCN8010_ve_Helena\\Lib\\site-packages\\pandas\\core\\indexes\\base.py:3805\u001b[0m, in \u001b[0;36mIndex.get_loc\u001b[1;34m(self, key)\u001b[0m\n\u001b[0;32m   3804\u001b[0m \u001b[38;5;28;01mtry\u001b[39;00m:\n\u001b[1;32m-> 3805\u001b[0m     \u001b[38;5;28;01mreturn\u001b[39;00m \u001b[38;5;28;43mself\u001b[39;49m\u001b[38;5;241;43m.\u001b[39;49m\u001b[43m_engine\u001b[49m\u001b[38;5;241;43m.\u001b[39;49m\u001b[43mget_loc\u001b[49m\u001b[43m(\u001b[49m\u001b[43mcasted_key\u001b[49m\u001b[43m)\u001b[49m\n\u001b[0;32m   3806\u001b[0m \u001b[38;5;28;01mexcept\u001b[39;00m \u001b[38;5;167;01mKeyError\u001b[39;00m \u001b[38;5;28;01mas\u001b[39;00m err:\n",
      "File \u001b[1;32mindex.pyx:167\u001b[0m, in \u001b[0;36mpandas._libs.index.IndexEngine.get_loc\u001b[1;34m()\u001b[0m\n",
      "File \u001b[1;32mindex.pyx:196\u001b[0m, in \u001b[0;36mpandas._libs.index.IndexEngine.get_loc\u001b[1;34m()\u001b[0m\n",
      "File \u001b[1;32mpandas\\\\_libs\\\\hashtable_class_helper.pxi:7081\u001b[0m, in \u001b[0;36mpandas._libs.hashtable.PyObjectHashTable.get_item\u001b[1;34m()\u001b[0m\n",
      "File \u001b[1;32mpandas\\\\_libs\\\\hashtable_class_helper.pxi:7089\u001b[0m, in \u001b[0;36mpandas._libs.hashtable.PyObjectHashTable.get_item\u001b[1;34m()\u001b[0m\n",
      "\u001b[1;31mKeyError\u001b[0m: 'M'",
      "\nThe above exception was the direct cause of the following exception:\n",
      "\u001b[1;31mKeyError\u001b[0m                                  Traceback (most recent call last)",
      "Cell \u001b[1;32mIn[131], line 1\u001b[0m\n\u001b[1;32m----> 1\u001b[0m time_series_views \u001b[38;5;241m=\u001b[39m \u001b[43mgenerate_time_series\u001b[49m\u001b[43m(\u001b[49m\u001b[43mdf\u001b[49m\u001b[43m,\u001b[49m\u001b[43m \u001b[49m\u001b[38;5;124;43m'\u001b[39;49m\u001b[38;5;124;43mM\u001b[39;49m\u001b[38;5;124;43m'\u001b[39;49m\u001b[43m,\u001b[49m\u001b[43m \u001b[49m\u001b[38;5;124;43m'\u001b[39;49m\u001b[38;5;124;43mviews\u001b[39;49m\u001b[38;5;124;43m'\u001b[39;49m\u001b[43m)\u001b[49m\n\u001b[0;32m      2\u001b[0m plt\u001b[38;5;241m.\u001b[39mfigure(figsize\u001b[38;5;241m=\u001b[39m(\u001b[38;5;241m10\u001b[39m, \u001b[38;5;241m6\u001b[39m))\n\u001b[0;32m      3\u001b[0m plt\u001b[38;5;241m.\u001b[39mplot(time_series_views, label\u001b[38;5;241m=\u001b[39m\u001b[38;5;124m'\u001b[39m\u001b[38;5;124mMonthly Views\u001b[39m\u001b[38;5;124m'\u001b[39m)\n",
      "Cell \u001b[1;32mIn[130], line 3\u001b[0m, in \u001b[0;36mgenerate_time_series\u001b[1;34m(df, column, freq)\u001b[0m\n\u001b[0;32m      1\u001b[0m \u001b[38;5;28;01mdef\u001b[39;00m \u001b[38;5;21mgenerate_time_series\u001b[39m(df, column\u001b[38;5;241m=\u001b[39m\u001b[38;5;124m'\u001b[39m\u001b[38;5;124mviews\u001b[39m\u001b[38;5;124m'\u001b[39m, freq\u001b[38;5;241m=\u001b[39m\u001b[38;5;124m'\u001b[39m\u001b[38;5;124mM\u001b[39m\u001b[38;5;124m'\u001b[39m):\n\u001b[0;32m      2\u001b[0m         \u001b[38;5;66;03m# Resample the data to the desired frequency (monthly or yearly)\u001b[39;00m\n\u001b[1;32m----> 3\u001b[0m         time_series \u001b[38;5;241m=\u001b[39m \u001b[43mdf\u001b[49m\u001b[43m[\u001b[49m\u001b[43mcolumn\u001b[49m\u001b[43m]\u001b[49m\u001b[38;5;241m.\u001b[39mresample(freq)\u001b[38;5;241m.\u001b[39msum()\n\u001b[0;32m      4\u001b[0m         \u001b[38;5;28;01mreturn\u001b[39;00m time_series\n",
      "File \u001b[1;32me:\\AI-program\\CSCN8010_ve_Helena\\Lib\\site-packages\\pandas\\core\\frame.py:4102\u001b[0m, in \u001b[0;36mDataFrame.__getitem__\u001b[1;34m(self, key)\u001b[0m\n\u001b[0;32m   4100\u001b[0m \u001b[38;5;28;01mif\u001b[39;00m \u001b[38;5;28mself\u001b[39m\u001b[38;5;241m.\u001b[39mcolumns\u001b[38;5;241m.\u001b[39mnlevels \u001b[38;5;241m>\u001b[39m \u001b[38;5;241m1\u001b[39m:\n\u001b[0;32m   4101\u001b[0m     \u001b[38;5;28;01mreturn\u001b[39;00m \u001b[38;5;28mself\u001b[39m\u001b[38;5;241m.\u001b[39m_getitem_multilevel(key)\n\u001b[1;32m-> 4102\u001b[0m indexer \u001b[38;5;241m=\u001b[39m \u001b[38;5;28;43mself\u001b[39;49m\u001b[38;5;241;43m.\u001b[39;49m\u001b[43mcolumns\u001b[49m\u001b[38;5;241;43m.\u001b[39;49m\u001b[43mget_loc\u001b[49m\u001b[43m(\u001b[49m\u001b[43mkey\u001b[49m\u001b[43m)\u001b[49m\n\u001b[0;32m   4103\u001b[0m \u001b[38;5;28;01mif\u001b[39;00m is_integer(indexer):\n\u001b[0;32m   4104\u001b[0m     indexer \u001b[38;5;241m=\u001b[39m [indexer]\n",
      "File \u001b[1;32me:\\AI-program\\CSCN8010_ve_Helena\\Lib\\site-packages\\pandas\\core\\indexes\\base.py:3812\u001b[0m, in \u001b[0;36mIndex.get_loc\u001b[1;34m(self, key)\u001b[0m\n\u001b[0;32m   3807\u001b[0m     \u001b[38;5;28;01mif\u001b[39;00m \u001b[38;5;28misinstance\u001b[39m(casted_key, \u001b[38;5;28mslice\u001b[39m) \u001b[38;5;129;01mor\u001b[39;00m (\n\u001b[0;32m   3808\u001b[0m         \u001b[38;5;28misinstance\u001b[39m(casted_key, abc\u001b[38;5;241m.\u001b[39mIterable)\n\u001b[0;32m   3809\u001b[0m         \u001b[38;5;129;01mand\u001b[39;00m \u001b[38;5;28many\u001b[39m(\u001b[38;5;28misinstance\u001b[39m(x, \u001b[38;5;28mslice\u001b[39m) \u001b[38;5;28;01mfor\u001b[39;00m x \u001b[38;5;129;01min\u001b[39;00m casted_key)\n\u001b[0;32m   3810\u001b[0m     ):\n\u001b[0;32m   3811\u001b[0m         \u001b[38;5;28;01mraise\u001b[39;00m InvalidIndexError(key)\n\u001b[1;32m-> 3812\u001b[0m     \u001b[38;5;28;01mraise\u001b[39;00m \u001b[38;5;167;01mKeyError\u001b[39;00m(key) \u001b[38;5;28;01mfrom\u001b[39;00m \u001b[38;5;21;01merr\u001b[39;00m\n\u001b[0;32m   3813\u001b[0m \u001b[38;5;28;01mexcept\u001b[39;00m \u001b[38;5;167;01mTypeError\u001b[39;00m:\n\u001b[0;32m   3814\u001b[0m     \u001b[38;5;66;03m# If we have a listlike key, _check_indexing_error will raise\u001b[39;00m\n\u001b[0;32m   3815\u001b[0m     \u001b[38;5;66;03m#  InvalidIndexError. Otherwise we fall through and re-raise\u001b[39;00m\n\u001b[0;32m   3816\u001b[0m     \u001b[38;5;66;03m#  the TypeError.\u001b[39;00m\n\u001b[0;32m   3817\u001b[0m     \u001b[38;5;28mself\u001b[39m\u001b[38;5;241m.\u001b[39m_check_indexing_error(key)\n",
      "\u001b[1;31mKeyError\u001b[0m: 'M'"
     ]
    }
   ],
   "source": [
    "time_series_views = generate_time_series(df, 'M', 'views')\n",
    "plt.figure(figsize=(10, 6))\n",
    "plt.plot(time_series_views, label='Monthly Views')\n",
    "plt.title('Monthly Views of Trending YouTube Videos')\n",
    "plt.xlabel('Date')\n",
    "plt.ylabel('Total Views')\n",
    "plt.legend()\n",
    "plt.show()"
   ]
  },
  {
   "cell_type": "markdown",
   "metadata": {},
   "source": [
    "## 6.Identify a pattern or trend in the time series"
   ]
  },
  {
   "cell_type": "markdown",
   "metadata": {},
   "source": [
    " From the monthly views time series, we can observe periodic spikes, \n",
    " likely around the holiday season or during special events. \n",
    " This pattern suggests that video viewership tends to increase at certain times of the year, indicating a potential seasonal trend."
   ]
  },
  {
   "cell_type": "markdown",
   "metadata": {},
   "source": [
    "## 7.Calculate and plot the Moving Averages from the time series"
   ]
  },
  {
   "cell_type": "code",
   "execution_count": 138,
   "metadata": {},
   "outputs": [
    {
     "ename": "AttributeError",
     "evalue": "'DataFrame' object has no attribute 'time_series_data'",
     "output_type": "error",
     "traceback": [
      "\u001b[1;31m---------------------------------------------------------------------------\u001b[0m",
      "\u001b[1;31mAttributeError\u001b[0m                            Traceback (most recent call last)",
      "Cell \u001b[1;32mIn[138], line 1\u001b[0m\n\u001b[1;32m----> 1\u001b[0m \u001b[43mplot_moving_average\u001b[49m\u001b[43m(\u001b[49m\u001b[43mdf\u001b[49m\u001b[43m,\u001b[49m\u001b[43m \u001b[49m\u001b[43mwindow_size\u001b[49m\u001b[38;5;241;43m=\u001b[39;49m\u001b[38;5;241;43m12\u001b[39;49m\u001b[43m)\u001b[49m \n",
      "Cell \u001b[1;32mIn[122], line 3\u001b[0m, in \u001b[0;36mplot_moving_average\u001b[1;34m(df, window_size)\u001b[0m\n\u001b[0;32m      1\u001b[0m \u001b[38;5;28;01mdef\u001b[39;00m \u001b[38;5;21mplot_moving_average\u001b[39m(df, window_size\u001b[38;5;241m=\u001b[39m\u001b[38;5;241m12\u001b[39m):\n\u001b[0;32m      2\u001b[0m \u001b[38;5;250m        \u001b[39m\u001b[38;5;124;03m\"\"\"Plots the moving average of the time series data to smooth fluctuations.\"\"\"\u001b[39;00m\n\u001b[1;32m----> 3\u001b[0m         \u001b[38;5;28;01mif\u001b[39;00m \u001b[43mdf\u001b[49m\u001b[38;5;241;43m.\u001b[39;49m\u001b[43mtime_series_data\u001b[49m \u001b[38;5;129;01mis\u001b[39;00m \u001b[38;5;28;01mNone\u001b[39;00m:\n\u001b[0;32m      4\u001b[0m             \u001b[38;5;28mprint\u001b[39m(\u001b[38;5;124m\"\u001b[39m\u001b[38;5;124mPlease generate the time series data first.\u001b[39m\u001b[38;5;124m\"\u001b[39m)\n\u001b[0;32m      5\u001b[0m             \u001b[38;5;28;01mreturn\u001b[39;00m\n",
      "File \u001b[1;32me:\\AI-program\\CSCN8010_ve_Helena\\Lib\\site-packages\\pandas\\core\\generic.py:6299\u001b[0m, in \u001b[0;36mNDFrame.__getattr__\u001b[1;34m(self, name)\u001b[0m\n\u001b[0;32m   6292\u001b[0m \u001b[38;5;28;01mif\u001b[39;00m (\n\u001b[0;32m   6293\u001b[0m     name \u001b[38;5;129;01mnot\u001b[39;00m \u001b[38;5;129;01min\u001b[39;00m \u001b[38;5;28mself\u001b[39m\u001b[38;5;241m.\u001b[39m_internal_names_set\n\u001b[0;32m   6294\u001b[0m     \u001b[38;5;129;01mand\u001b[39;00m name \u001b[38;5;129;01mnot\u001b[39;00m \u001b[38;5;129;01min\u001b[39;00m \u001b[38;5;28mself\u001b[39m\u001b[38;5;241m.\u001b[39m_metadata\n\u001b[0;32m   6295\u001b[0m     \u001b[38;5;129;01mand\u001b[39;00m name \u001b[38;5;129;01mnot\u001b[39;00m \u001b[38;5;129;01min\u001b[39;00m \u001b[38;5;28mself\u001b[39m\u001b[38;5;241m.\u001b[39m_accessors\n\u001b[0;32m   6296\u001b[0m     \u001b[38;5;129;01mand\u001b[39;00m \u001b[38;5;28mself\u001b[39m\u001b[38;5;241m.\u001b[39m_info_axis\u001b[38;5;241m.\u001b[39m_can_hold_identifiers_and_holds_name(name)\n\u001b[0;32m   6297\u001b[0m ):\n\u001b[0;32m   6298\u001b[0m     \u001b[38;5;28;01mreturn\u001b[39;00m \u001b[38;5;28mself\u001b[39m[name]\n\u001b[1;32m-> 6299\u001b[0m \u001b[38;5;28;01mreturn\u001b[39;00m \u001b[38;5;28;43mobject\u001b[39;49m\u001b[38;5;241;43m.\u001b[39;49m\u001b[38;5;21;43m__getattribute__\u001b[39;49m\u001b[43m(\u001b[49m\u001b[38;5;28;43mself\u001b[39;49m\u001b[43m,\u001b[49m\u001b[43m \u001b[49m\u001b[43mname\u001b[49m\u001b[43m)\u001b[49m\n",
      "\u001b[1;31mAttributeError\u001b[0m: 'DataFrame' object has no attribute 'time_series_data'"
     ]
    }
   ],
   "source": [
    "plot_moving_average(df, window_size=12) "
   ]
  },
  {
   "cell_type": "markdown",
   "metadata": {},
   "source": [
    "## 8.Technical Statement"
   ]
  },
  {
   "cell_type": "markdown",
   "metadata": {},
   "source": [
    "After observing the time series plot and its moving average, the trend seems to show a consistent pattern of growth over time with periodic fluctuations. This suggests that the time series exhibits an additive pattern, as the seasonal fluctuations appear to remain constant regardless of the level of the trend."
   ]
  },
  {
   "cell_type": "markdown",
   "metadata": {},
   "source": [
    "## 9.Calculate and plot the Moving Averages from the time series"
   ]
  },
  {
   "cell_type": "code",
   "execution_count": null,
   "metadata": {},
   "outputs": [],
   "source": [
    "deseasonalized_views = deseasonalize(time_series_views)\n",
    "plt.figure(figsize=(10, 6))\n",
    "plt.plot(deseasonalized_views, label='Deseasonalized Views')\n",
    "plt.title('Deseasonalized Time Series of Monthly Views')\n",
    "plt.xlabel('Date')\n",
    "plt.ylabel('Deseasonalized Views')\n",
    "plt.legend()\n",
    "plt.show()"
   ]
  },
  {
   "cell_type": "markdown",
   "metadata": {},
   "source": [
    "## Conclusion:\n",
    "### Hypothesis Testing:\n",
    "We are testing the hypothesis that the time of publication significantly impacts the number of views a video receives. The Null Hypothesis (H₀) assumes no impact, while the Alternative Hypothesis (H₁) suggests a significant impact.\n",
    "\n",
    "### Time Series Analysis:\n",
    "We have generated a time series of monthly views from the YouTube dataset. The trend shows periodic spikes, suggesting a seasonal pattern. To further analyze the trend, we calculate and plot the moving average and deseasonalize the series.\n"
   ]
  }
 ],
 "metadata": {
  "kernelspec": {
   "display_name": "Python 3",
   "language": "python",
   "name": "python3"
  },
  "language_info": {
   "codemirror_mode": {
    "name": "ipython",
    "version": 3
   },
   "file_extension": ".py",
   "mimetype": "text/x-python",
   "name": "python",
   "nbconvert_exporter": "python",
   "pygments_lexer": "ipython3",
   "version": "3.12.5"
  }
 },
 "nbformat": 4,
 "nbformat_minor": 2
}
