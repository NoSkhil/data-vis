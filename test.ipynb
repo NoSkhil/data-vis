{
 "cells": [
  {
   "cell_type": "markdown",
   "id": "f570c5a3c6aa910",
   "metadata": {},
   "source": [
    "## Group 4\n",
    " \n",
    "### Members\n",
    "* Shyam Akhil Nekkanti \n",
    "* Jun He\n",
    "* Zheming Li"
   ]
  },
  {
   "cell_type": "markdown",
   "id": "dac2e6b89b970d5d",
   "metadata": {},
   "source": [
    "## Setup and Configuration"
   ]
  },
  {
   "cell_type": "code",
   "execution_count": 25,
   "id": "13dde202-9a39-48bf-9846-65bf1f5c4344",
   "metadata": {},
   "outputs": [
    {
     "name": "stdout",
     "output_type": "stream",
     "text": [
      "/Users/akhil/tensorflow-test/data-vis/youtube-dataset/CAvideos.csv\n",
      "      video_id trending_date  \\\n",
      "0  n1WpP7iowLc      17.14.11   \n",
      "1  0dBIkQ4Mz1M      17.14.11   \n",
      "2  5qpjK5DgCt4      17.14.11   \n",
      "3  d380meD0W0M      17.14.11   \n",
      "4  2Vv-BfVoq4g      17.14.11   \n",
      "5  0yIWz1XEeyc      17.14.11   \n",
      "6  _uM5kFfkhB8      17.14.11   \n",
      "7  2kyS6SvSYSE      17.14.11   \n",
      "8  JzCsM1vtn78      17.14.11   \n",
      "9  43sm-QwLcx4      17.14.11   \n",
      "\n",
      "                                               title     channel_title  \\\n",
      "0         Eminem - Walk On Water (Audio) ft. Beyoncé        EminemVEVO   \n",
      "1                      PLUSH - Bad Unboxing Fan Mail         iDubbbzTV   \n",
      "2  Racist Superman | Rudy Mancuso, King Bach & Le...      Rudy Mancuso   \n",
      "3                           I Dare You: GOING BALD!?          nigahiga   \n",
      "4        Ed Sheeran - Perfect (Official Music Video)        Ed Sheeran   \n",
      "5  Jake Paul Says Alissa Violet CHEATED with LOGA...        DramaAlert   \n",
      "6             Vanoss Superhero School - New Students      VanossGaming   \n",
      "7                 WE WANT TO TALK ABOUT OUR MARRIAGE      CaseyNeistat   \n",
      "8               THE LOGANG MADE HISTORY. LOL. AGAIN.  Logan Paul Vlogs   \n",
      "9  Finally Sheldon is winning an argument about t...       Sheikh Musa   \n",
      "\n",
      "   category_id              publish_time  \\\n",
      "0           10  2017-11-10T17:00:03.000Z   \n",
      "1           23  2017-11-13T17:00:00.000Z   \n",
      "2           23  2017-11-12T19:05:24.000Z   \n",
      "3           24  2017-11-12T18:01:41.000Z   \n",
      "4           10  2017-11-09T11:04:14.000Z   \n",
      "5           25  2017-11-13T07:37:51.000Z   \n",
      "6           23  2017-11-12T23:52:13.000Z   \n",
      "7           22  2017-11-13T17:13:01.000Z   \n",
      "8           24  2017-11-12T20:19:24.000Z   \n",
      "9           22  2017-11-10T14:10:46.000Z   \n",
      "\n",
      "                                                tags     views    likes  \\\n",
      "0  Eminem|\"Walk\"|\"On\"|\"Water\"|\"Aftermath/Shady/In...  17158579   787425   \n",
      "1  plush|\"bad unboxing\"|\"unboxing\"|\"fan mail\"|\"id...   1014651   127794   \n",
      "2  racist superman|\"rudy\"|\"mancuso\"|\"king\"|\"bach\"...   3191434   146035   \n",
      "3  ryan|\"higa\"|\"higatv\"|\"nigahiga\"|\"i dare you\"|\"...   2095828   132239   \n",
      "4  edsheeran|\"ed sheeran\"|\"acoustic\"|\"live\"|\"cove...  33523622  1634130   \n",
      "5  #DramaAlert|\"Drama\"|\"Alert\"|\"DramaAlert\"|\"keem...   1309699   103755   \n",
      "6  Funny Moments|\"Montage video games\"|\"gaming\"|\"...   2987945   187464   \n",
      "7                                    SHANtell martin    748374    57534   \n",
      "8  logan paul vlog|\"logan paul\"|\"logan\"|\"paul\"|\"o...   4477587   292837   \n",
      "9               God|\"Sheldon Cooper\"|\"Young Sheldon\"    505161     4135   \n",
      "\n",
      "   dislikes  comment_count                                  thumbnail_link  \\\n",
      "0     43420         125882  https://i.ytimg.com/vi/n1WpP7iowLc/default.jpg   \n",
      "1      1688          13030  https://i.ytimg.com/vi/0dBIkQ4Mz1M/default.jpg   \n",
      "2      5339           8181  https://i.ytimg.com/vi/5qpjK5DgCt4/default.jpg   \n",
      "3      1989          17518  https://i.ytimg.com/vi/d380meD0W0M/default.jpg   \n",
      "4     21082          85067  https://i.ytimg.com/vi/2Vv-BfVoq4g/default.jpg   \n",
      "5      4613          12143  https://i.ytimg.com/vi/0yIWz1XEeyc/default.jpg   \n",
      "6      9850          26629  https://i.ytimg.com/vi/_uM5kFfkhB8/default.jpg   \n",
      "7      2967          15959  https://i.ytimg.com/vi/2kyS6SvSYSE/default.jpg   \n",
      "8      4123          36391  https://i.ytimg.com/vi/JzCsM1vtn78/default.jpg   \n",
      "9       976           1484  https://i.ytimg.com/vi/43sm-QwLcx4/default.jpg   \n",
      "\n",
      "   comments_disabled  ratings_disabled  video_error_or_removed  \\\n",
      "0              False             False                   False   \n",
      "1              False             False                   False   \n",
      "2              False             False                   False   \n",
      "3              False             False                   False   \n",
      "4              False             False                   False   \n",
      "5              False             False                   False   \n",
      "6              False             False                   False   \n",
      "7              False             False                   False   \n",
      "8              False             False                   False   \n",
      "9              False             False                   False   \n",
      "\n",
      "                                         description  \n",
      "0  Eminem's new track Walk on Water ft. Beyoncé i...  \n",
      "1  STill got a lot of packages. Probably will las...  \n",
      "2  WATCH MY PREVIOUS VIDEO ▶ \\n\\nSUBSCRIBE ► http...  \n",
      "3  I know it's been a while since we did this sho...  \n",
      "4  🎧: https://ad.gt/yt-perfect\\n💰: https://atlant...  \n",
      "5  ► Follow for News! - https://twitter.com/KEEMS...  \n",
      "6  Vanoss Merch Shop: https://vanoss.3blackdot.co...  \n",
      "7  SHANTELL'S CHANNEL - https://www.youtube.com/s...  \n",
      "8  Join the movement. Be a Maverick ► https://Sho...  \n",
      "9  Sheldon is roasting pastor of the church\\nyoun...  \n",
      "TensorFlow has access to the following devices:\n",
      "[PhysicalDevice(name='/physical_device:CPU:0', device_type='CPU'), PhysicalDevice(name='/physical_device:GPU:0', device_type='GPU')]\n",
      "TensorFlow version: 2.13.0\n"
     ]
    }
   ],
   "source": [
    "import numpy as np\n",
    "import os\n",
    "import pandas as pd\n",
    "import sklearn\n",
    "import tensorflow as tf\n",
    "import matplotlib.pyplot as plt\n",
    "import requests\n",
    "\n",
    "cur_folder = os.getcwd();\n",
    "filepath = f\"{cur_folder}/youtube-dataset/CAvideos.csv\"\n",
    "print(filepath)\n",
    "data = pd.read_csv (filepath)\n",
    "print(data.head(10))\n",
    "\n",
    "\n"
   ]
  },
  {
   "cell_type": "markdown",
   "id": "b8a805846ea9c54d",
   "metadata": {},
   "source": [
    "## Data Cleansing\n",
    "\n",
    "TBD"
   ]
  }
 ],
 "metadata": {
  "kernelspec": {
   "display_name": "Python 3 (ipykernel)",
   "language": "python",
   "name": "python3"
  },
  "language_info": {
   "codemirror_mode": {
    "name": "ipython",
    "version": 3
   },
   "file_extension": ".py",
   "mimetype": "text/x-python",
   "name": "python",
   "nbconvert_exporter": "python",
   "pygments_lexer": "ipython3",
   "version": "3.8.19"
  }
 },
 "nbformat": 4,
 "nbformat_minor": 5
}
